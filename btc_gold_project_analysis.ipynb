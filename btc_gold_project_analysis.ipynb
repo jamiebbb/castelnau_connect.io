{
  "nbformat": 4,
  "nbformat_minor": 0,
  "metadata": {
    "colab": {
      "name": "btc/gold project analysis.ipynb",
      "provenance": [],
      "authorship_tag": "ABX9TyPIrsbH9doQxHo6n2wAuwzm",
      "include_colab_link": true
    },
    "kernelspec": {
      "name": "python3",
      "display_name": "Python 3"
    },
    "language_info": {
      "name": "python"
    }
  },
  "cells": [
    {
      "cell_type": "markdown",
      "metadata": {
        "id": "view-in-github",
        "colab_type": "text"
      },
      "source": [
        "<a href=\"https://colab.research.google.com/github/jamiebbb/jamiebbb.github.io/blob/main/btc_gold_project_analysis.ipynb\" target=\"_parent\"><img src=\"https://colab.research.google.com/assets/colab-badge.svg\" alt=\"Open In Colab\"/></a>"
      ]
    },
    {
      "cell_type": "markdown",
      "source": [
        "<b> Scraping data for use in my project from investing.com </b>"
      ],
      "metadata": {
        "id": "pm9JdGmLwZgF"
      }
    },
    {
      "cell_type": "code",
      "metadata": {
        "id": "2Jn9a6nBIbbm"
      },
      "source": [
        "#Install investpy which allows us to retrieve data from investing.com\n",
        "!pip install investpy"
      ],
      "execution_count": null,
      "outputs": []
    },
    {
      "cell_type": "code",
      "metadata": {
        "id": "y_pyA_5sonSf"
      },
      "source": [
        "#Import necessary libraries for use throughout. \n",
        "import pandas as pd\n",
        "import numpy as np\n",
        "import time \n",
        "import os\n",
        "import investpy as ip"
      ],
      "execution_count": null,
      "outputs": []
    },
    {
      "cell_type": "code",
      "metadata": {
        "id": "EB5zPMD5JmJ-"
      },
      "source": [
        "#Specify start and end date for data collection. Using 19th July 2010 since this is the first price for BTC on investing.com when it was $0.1 per BTC :0\n",
        "start = '19/07/2010'\n",
        "end = '09/12/2021'"
      ],
      "execution_count": null,
      "outputs": []
    },
    {
      "cell_type": "code",
      "metadata": {
        "id": "tEj3jvlpIw24"
      },
      "source": [
        "#Download data from investing.com using investpy for BTC and Gold. Decided to use investing.com over yahoo since it has a larger dataset, increasing overall number of observations significantly.  \n",
        "btc = ip.get_crypto_historical_data(crypto='Bitcoin', from_date=start, to_date=end, order='ascending', interval='Daily')\n",
        "gold = ip.get_commodity_historical_data(commodity='Gold', from_date=start, to_date=end, order='ascending', interval='Daily')\n",
        "#spy = ip.get_etf_historical_data(etf='SPDR S&P 500', country='United States', from_date=start, to_date=end, order='ascending', interval='Daily')['Close']"
      ],
      "execution_count": null,
      "outputs": []
    },
    {
      "cell_type": "code",
      "metadata": {
        "id": "IUtliYC9KwwX",
        "colab": {
          "base_uri": "https://localhost:8080/",
          "height": 456
        },
        "outputId": "e4d3b360-020f-43dc-efbb-6547bb765b11"
      },
      "source": [
        "#Join the data frames I formed above into the same one and use a suffix to clearly determine each asset (DataFrame for BTC and Gold)\n",
        "btc_gold_data = btc.join(gold, lsuffix='BTC', rsuffix='Gold')\n",
        "btc_gold_data"
      ],
      "execution_count": null,
      "outputs": [
        {
          "output_type": "execute_result",
          "data": {
            "text/html": [
              "\n",
              "  <div id=\"df-5b8a5acd-136a-498a-bfb9-3f3d5c0b4ebc\">\n",
              "    <div class=\"colab-df-container\">\n",
              "      <div>\n",
              "<style scoped>\n",
              "    .dataframe tbody tr th:only-of-type {\n",
              "        vertical-align: middle;\n",
              "    }\n",
              "\n",
              "    .dataframe tbody tr th {\n",
              "        vertical-align: top;\n",
              "    }\n",
              "\n",
              "    .dataframe thead th {\n",
              "        text-align: right;\n",
              "    }\n",
              "</style>\n",
              "<table border=\"1\" class=\"dataframe\">\n",
              "  <thead>\n",
              "    <tr style=\"text-align: right;\">\n",
              "      <th></th>\n",
              "      <th>OpenBTC</th>\n",
              "      <th>HighBTC</th>\n",
              "      <th>LowBTC</th>\n",
              "      <th>CloseBTC</th>\n",
              "      <th>VolumeBTC</th>\n",
              "      <th>CurrencyBTC</th>\n",
              "      <th>OpenGold</th>\n",
              "      <th>HighGold</th>\n",
              "      <th>LowGold</th>\n",
              "      <th>CloseGold</th>\n",
              "      <th>VolumeGold</th>\n",
              "      <th>CurrencyGold</th>\n",
              "    </tr>\n",
              "    <tr>\n",
              "      <th>Date</th>\n",
              "      <th></th>\n",
              "      <th></th>\n",
              "      <th></th>\n",
              "      <th></th>\n",
              "      <th></th>\n",
              "      <th></th>\n",
              "      <th></th>\n",
              "      <th></th>\n",
              "      <th></th>\n",
              "      <th></th>\n",
              "      <th></th>\n",
              "      <th></th>\n",
              "    </tr>\n",
              "  </thead>\n",
              "  <tbody>\n",
              "    <tr>\n",
              "      <th>2010-07-19</th>\n",
              "      <td>0.1</td>\n",
              "      <td>0.1</td>\n",
              "      <td>0.1</td>\n",
              "      <td>0.1</td>\n",
              "      <td>574</td>\n",
              "      <td>USD</td>\n",
              "      <td>1182.2</td>\n",
              "      <td>1182.2</td>\n",
              "      <td>1180.0</td>\n",
              "      <td>1181.7</td>\n",
              "      <td>4.0</td>\n",
              "      <td>USD</td>\n",
              "    </tr>\n",
              "    <tr>\n",
              "      <th>2010-07-20</th>\n",
              "      <td>0.1</td>\n",
              "      <td>0.1</td>\n",
              "      <td>0.1</td>\n",
              "      <td>0.1</td>\n",
              "      <td>262</td>\n",
              "      <td>USD</td>\n",
              "      <td>1183.2</td>\n",
              "      <td>1191.6</td>\n",
              "      <td>1181.5</td>\n",
              "      <td>1191.5</td>\n",
              "      <td>8.0</td>\n",
              "      <td>USD</td>\n",
              "    </tr>\n",
              "    <tr>\n",
              "      <th>2010-07-21</th>\n",
              "      <td>0.1</td>\n",
              "      <td>0.1</td>\n",
              "      <td>0.1</td>\n",
              "      <td>0.1</td>\n",
              "      <td>575</td>\n",
              "      <td>USD</td>\n",
              "      <td>1190.7</td>\n",
              "      <td>1194.5</td>\n",
              "      <td>1184.1</td>\n",
              "      <td>1191.6</td>\n",
              "      <td>24.0</td>\n",
              "      <td>USD</td>\n",
              "    </tr>\n",
              "    <tr>\n",
              "      <th>2010-07-22</th>\n",
              "      <td>0.1</td>\n",
              "      <td>0.1</td>\n",
              "      <td>0.1</td>\n",
              "      <td>0.1</td>\n",
              "      <td>2160</td>\n",
              "      <td>USD</td>\n",
              "      <td>1194.4</td>\n",
              "      <td>1196.0</td>\n",
              "      <td>1194.4</td>\n",
              "      <td>1195.5</td>\n",
              "      <td>79.0</td>\n",
              "      <td>USD</td>\n",
              "    </tr>\n",
              "    <tr>\n",
              "      <th>2010-07-23</th>\n",
              "      <td>0.1</td>\n",
              "      <td>0.1</td>\n",
              "      <td>0.1</td>\n",
              "      <td>0.1</td>\n",
              "      <td>2403</td>\n",
              "      <td>USD</td>\n",
              "      <td>1193.7</td>\n",
              "      <td>1198.6</td>\n",
              "      <td>1188.0</td>\n",
              "      <td>1187.7</td>\n",
              "      <td>32.0</td>\n",
              "      <td>USD</td>\n",
              "    </tr>\n",
              "    <tr>\n",
              "      <th>...</th>\n",
              "      <td>...</td>\n",
              "      <td>...</td>\n",
              "      <td>...</td>\n",
              "      <td>...</td>\n",
              "      <td>...</td>\n",
              "      <td>...</td>\n",
              "      <td>...</td>\n",
              "      <td>...</td>\n",
              "      <td>...</td>\n",
              "      <td>...</td>\n",
              "      <td>...</td>\n",
              "      <td>...</td>\n",
              "    </tr>\n",
              "    <tr>\n",
              "      <th>2021-12-05</th>\n",
              "      <td>49196.4</td>\n",
              "      <td>49689.3</td>\n",
              "      <td>47797.8</td>\n",
              "      <td>49405.5</td>\n",
              "      <td>72026</td>\n",
              "      <td>USD</td>\n",
              "      <td>NaN</td>\n",
              "      <td>NaN</td>\n",
              "      <td>NaN</td>\n",
              "      <td>NaN</td>\n",
              "      <td>NaN</td>\n",
              "      <td>NaN</td>\n",
              "    </tr>\n",
              "    <tr>\n",
              "      <th>2021-12-06</th>\n",
              "      <td>49412.1</td>\n",
              "      <td>50913.3</td>\n",
              "      <td>47237.9</td>\n",
              "      <td>50562.1</td>\n",
              "      <td>89675</td>\n",
              "      <td>USD</td>\n",
              "      <td>1787.7</td>\n",
              "      <td>1789.0</td>\n",
              "      <td>1776.4</td>\n",
              "      <td>1779.5</td>\n",
              "      <td>104477.0</td>\n",
              "      <td>USD</td>\n",
              "    </tr>\n",
              "    <tr>\n",
              "      <th>2021-12-07</th>\n",
              "      <td>50547.4</td>\n",
              "      <td>51918.6</td>\n",
              "      <td>50070.9</td>\n",
              "      <td>50595.2</td>\n",
              "      <td>56293</td>\n",
              "      <td>USD</td>\n",
              "      <td>1779.5</td>\n",
              "      <td>1789.3</td>\n",
              "      <td>1772.4</td>\n",
              "      <td>1784.7</td>\n",
              "      <td>129894.0</td>\n",
              "      <td>USD</td>\n",
              "    </tr>\n",
              "    <tr>\n",
              "      <th>2021-12-08</th>\n",
              "      <td>50596.6</td>\n",
              "      <td>51204.7</td>\n",
              "      <td>48700.7</td>\n",
              "      <td>50473.9</td>\n",
              "      <td>55594</td>\n",
              "      <td>USD</td>\n",
              "      <td>1785.1</td>\n",
              "      <td>1794.3</td>\n",
              "      <td>1780.1</td>\n",
              "      <td>1785.5</td>\n",
              "      <td>109692.0</td>\n",
              "      <td>USD</td>\n",
              "    </tr>\n",
              "    <tr>\n",
              "      <th>2021-12-09</th>\n",
              "      <td>50477.6</td>\n",
              "      <td>50790.2</td>\n",
              "      <td>47341.9</td>\n",
              "      <td>47596.6</td>\n",
              "      <td>58691</td>\n",
              "      <td>USD</td>\n",
              "      <td>1784.3</td>\n",
              "      <td>1788.4</td>\n",
              "      <td>1773.3</td>\n",
              "      <td>1776.7</td>\n",
              "      <td>123974.0</td>\n",
              "      <td>USD</td>\n",
              "    </tr>\n",
              "  </tbody>\n",
              "</table>\n",
              "<p>4162 rows × 12 columns</p>\n",
              "</div>\n",
              "      <button class=\"colab-df-convert\" onclick=\"convertToInteractive('df-5b8a5acd-136a-498a-bfb9-3f3d5c0b4ebc')\"\n",
              "              title=\"Convert this dataframe to an interactive table.\"\n",
              "              style=\"display:none;\">\n",
              "        \n",
              "  <svg xmlns=\"http://www.w3.org/2000/svg\" height=\"24px\"viewBox=\"0 0 24 24\"\n",
              "       width=\"24px\">\n",
              "    <path d=\"M0 0h24v24H0V0z\" fill=\"none\"/>\n",
              "    <path d=\"M18.56 5.44l.94 2.06.94-2.06 2.06-.94-2.06-.94-.94-2.06-.94 2.06-2.06.94zm-11 1L8.5 8.5l.94-2.06 2.06-.94-2.06-.94L8.5 2.5l-.94 2.06-2.06.94zm10 10l.94 2.06.94-2.06 2.06-.94-2.06-.94-.94-2.06-.94 2.06-2.06.94z\"/><path d=\"M17.41 7.96l-1.37-1.37c-.4-.4-.92-.59-1.43-.59-.52 0-1.04.2-1.43.59L10.3 9.45l-7.72 7.72c-.78.78-.78 2.05 0 2.83L4 21.41c.39.39.9.59 1.41.59.51 0 1.02-.2 1.41-.59l7.78-7.78 2.81-2.81c.8-.78.8-2.07 0-2.86zM5.41 20L4 18.59l7.72-7.72 1.47 1.35L5.41 20z\"/>\n",
              "  </svg>\n",
              "      </button>\n",
              "      \n",
              "  <style>\n",
              "    .colab-df-container {\n",
              "      display:flex;\n",
              "      flex-wrap:wrap;\n",
              "      gap: 12px;\n",
              "    }\n",
              "\n",
              "    .colab-df-convert {\n",
              "      background-color: #E8F0FE;\n",
              "      border: none;\n",
              "      border-radius: 50%;\n",
              "      cursor: pointer;\n",
              "      display: none;\n",
              "      fill: #1967D2;\n",
              "      height: 32px;\n",
              "      padding: 0 0 0 0;\n",
              "      width: 32px;\n",
              "    }\n",
              "\n",
              "    .colab-df-convert:hover {\n",
              "      background-color: #E2EBFA;\n",
              "      box-shadow: 0px 1px 2px rgba(60, 64, 67, 0.3), 0px 1px 3px 1px rgba(60, 64, 67, 0.15);\n",
              "      fill: #174EA6;\n",
              "    }\n",
              "\n",
              "    [theme=dark] .colab-df-convert {\n",
              "      background-color: #3B4455;\n",
              "      fill: #D2E3FC;\n",
              "    }\n",
              "\n",
              "    [theme=dark] .colab-df-convert:hover {\n",
              "      background-color: #434B5C;\n",
              "      box-shadow: 0px 1px 3px 1px rgba(0, 0, 0, 0.15);\n",
              "      filter: drop-shadow(0px 1px 2px rgba(0, 0, 0, 0.3));\n",
              "      fill: #FFFFFF;\n",
              "    }\n",
              "  </style>\n",
              "\n",
              "      <script>\n",
              "        const buttonEl =\n",
              "          document.querySelector('#df-5b8a5acd-136a-498a-bfb9-3f3d5c0b4ebc button.colab-df-convert');\n",
              "        buttonEl.style.display =\n",
              "          google.colab.kernel.accessAllowed ? 'block' : 'none';\n",
              "\n",
              "        async function convertToInteractive(key) {\n",
              "          const element = document.querySelector('#df-5b8a5acd-136a-498a-bfb9-3f3d5c0b4ebc');\n",
              "          const dataTable =\n",
              "            await google.colab.kernel.invokeFunction('convertToInteractive',\n",
              "                                                     [key], {});\n",
              "          if (!dataTable) return;\n",
              "\n",
              "          const docLinkHtml = 'Like what you see? Visit the ' +\n",
              "            '<a target=\"_blank\" href=https://colab.research.google.com/notebooks/data_table.ipynb>data table notebook</a>'\n",
              "            + ' to learn more about interactive tables.';\n",
              "          element.innerHTML = '';\n",
              "          dataTable['output_type'] = 'display_data';\n",
              "          await google.colab.output.renderOutput(dataTable, element);\n",
              "          const docLink = document.createElement('div');\n",
              "          docLink.innerHTML = docLinkHtml;\n",
              "          element.appendChild(docLink);\n",
              "        }\n",
              "      </script>\n",
              "    </div>\n",
              "  </div>\n",
              "  "
            ],
            "text/plain": [
              "            OpenBTC  HighBTC   LowBTC  ...  CloseGold  VolumeGold CurrencyGold\n",
              "Date                                   ...                                    \n",
              "2010-07-19      0.1      0.1      0.1  ...     1181.7         4.0          USD\n",
              "2010-07-20      0.1      0.1      0.1  ...     1191.5         8.0          USD\n",
              "2010-07-21      0.1      0.1      0.1  ...     1191.6        24.0          USD\n",
              "2010-07-22      0.1      0.1      0.1  ...     1195.5        79.0          USD\n",
              "2010-07-23      0.1      0.1      0.1  ...     1187.7        32.0          USD\n",
              "...             ...      ...      ...  ...        ...         ...          ...\n",
              "2021-12-05  49196.4  49689.3  47797.8  ...        NaN         NaN          NaN\n",
              "2021-12-06  49412.1  50913.3  47237.9  ...     1779.5    104477.0          USD\n",
              "2021-12-07  50547.4  51918.6  50070.9  ...     1784.7    129894.0          USD\n",
              "2021-12-08  50596.6  51204.7  48700.7  ...     1785.5    109692.0          USD\n",
              "2021-12-09  50477.6  50790.2  47341.9  ...     1776.7    123974.0          USD\n",
              "\n",
              "[4162 rows x 12 columns]"
            ]
          },
          "metadata": {},
          "execution_count": 12
        }
      ]
    },
    {
      "cell_type": "code",
      "metadata": {
        "id": "d9CzCC37ay0x"
      },
      "source": [
        "#Save daily data for use in a linear regression of BTC and Gold\n",
        "btc_gold_data.to_csv('btc_gold_daily_data_19-07-2010.csv')"
      ],
      "execution_count": null,
      "outputs": []
    },
    {
      "cell_type": "code",
      "metadata": {
        "id": "83ZQlyoMMVFM"
      },
      "source": [
        "#Calculate the mean price values over a weekly time period and save this. Using weekly average prices since Gold doesn't trade on bank holidays or weekends so the dataset is significantly smaller. \n",
        "btc_gold_weekly = btc_gold_data.resample('W').mean()\n",
        "btc_gold_weekly.to_csv('btc_gold_weekly_19-07.2010.csv')"
      ],
      "execution_count": null,
      "outputs": []
    },
    {
      "cell_type": "code",
      "metadata": {
        "id": "deEvyiOXMVW3"
      },
      "source": [
        "#Drop columns (Open, High, Low and Volume) so we just have close price data for min-max / z-score graphs and save as a csv \n",
        "btc_gold_weekly.drop(columns=['OpenBTC', 'HighBTC', 'LowBTC', 'VolumeBTC', 'OpenGold', 'HighGold', 'LowGold', 'VolumeGold']).to_csv('btc_gold_weekly_closeprice_09-12-21.csv')"
      ],
      "execution_count": null,
      "outputs": []
    },
    {
      "cell_type": "code",
      "source": [
        "#Creating a new dataframe including the S&P 500 to use as a market index so see whether there is any correlation between BTC and Gold with SPY -> used for minmax and z-score.\n",
        "#Did this then altered colab notebook back to what it was previously, code with # before was used in other analysis. \n",
        "df['CloseBTC'] = btc\n",
        "df['CloseGold'] = gold\n",
        "df['CloseSPY'] = spy\n",
        "\n",
        "my_assets = df\n",
        "df"
      ],
      "metadata": {
        "colab": {
          "base_uri": "https://localhost:8080/",
          "height": 456
        },
        "id": "yLwRitQ8yAQJ",
        "outputId": "2dafae57-5067-477e-ea4c-deddd4eafa1d"
      },
      "execution_count": null,
      "outputs": [
        {
          "output_type": "execute_result",
          "data": {
            "text/html": [
              "\n",
              "  <div id=\"df-11e87fdd-9476-43e2-8fbf-4b5256aca4f9\">\n",
              "    <div class=\"colab-df-container\">\n",
              "      <div>\n",
              "<style scoped>\n",
              "    .dataframe tbody tr th:only-of-type {\n",
              "        vertical-align: middle;\n",
              "    }\n",
              "\n",
              "    .dataframe tbody tr th {\n",
              "        vertical-align: top;\n",
              "    }\n",
              "\n",
              "    .dataframe thead th {\n",
              "        text-align: right;\n",
              "    }\n",
              "</style>\n",
              "<table border=\"1\" class=\"dataframe\">\n",
              "  <thead>\n",
              "    <tr style=\"text-align: right;\">\n",
              "      <th></th>\n",
              "      <th>CloseBTC</th>\n",
              "      <th>CloseGold</th>\n",
              "      <th>CloseSPY</th>\n",
              "    </tr>\n",
              "    <tr>\n",
              "      <th>Date</th>\n",
              "      <th></th>\n",
              "      <th></th>\n",
              "      <th></th>\n",
              "    </tr>\n",
              "  </thead>\n",
              "  <tbody>\n",
              "    <tr>\n",
              "      <th>2010-07-19</th>\n",
              "      <td>0.1</td>\n",
              "      <td>1181.7</td>\n",
              "      <td>107.29</td>\n",
              "    </tr>\n",
              "    <tr>\n",
              "      <th>2010-07-20</th>\n",
              "      <td>0.1</td>\n",
              "      <td>1191.5</td>\n",
              "      <td>108.48</td>\n",
              "    </tr>\n",
              "    <tr>\n",
              "      <th>2010-07-21</th>\n",
              "      <td>0.1</td>\n",
              "      <td>1191.6</td>\n",
              "      <td>107.07</td>\n",
              "    </tr>\n",
              "    <tr>\n",
              "      <th>2010-07-22</th>\n",
              "      <td>0.1</td>\n",
              "      <td>1195.5</td>\n",
              "      <td>109.46</td>\n",
              "    </tr>\n",
              "    <tr>\n",
              "      <th>2010-07-23</th>\n",
              "      <td>0.1</td>\n",
              "      <td>1187.7</td>\n",
              "      <td>110.41</td>\n",
              "    </tr>\n",
              "    <tr>\n",
              "      <th>...</th>\n",
              "      <td>...</td>\n",
              "      <td>...</td>\n",
              "      <td>...</td>\n",
              "    </tr>\n",
              "    <tr>\n",
              "      <th>2021-12-05</th>\n",
              "      <td>49405.5</td>\n",
              "      <td>NaN</td>\n",
              "      <td>NaN</td>\n",
              "    </tr>\n",
              "    <tr>\n",
              "      <th>2021-12-06</th>\n",
              "      <td>50562.1</td>\n",
              "      <td>1779.5</td>\n",
              "      <td>458.79</td>\n",
              "    </tr>\n",
              "    <tr>\n",
              "      <th>2021-12-07</th>\n",
              "      <td>50595.2</td>\n",
              "      <td>1784.7</td>\n",
              "      <td>468.28</td>\n",
              "    </tr>\n",
              "    <tr>\n",
              "      <th>2021-12-08</th>\n",
              "      <td>50473.9</td>\n",
              "      <td>1785.5</td>\n",
              "      <td>469.52</td>\n",
              "    </tr>\n",
              "    <tr>\n",
              "      <th>2021-12-09</th>\n",
              "      <td>47596.6</td>\n",
              "      <td>1776.7</td>\n",
              "      <td>466.35</td>\n",
              "    </tr>\n",
              "  </tbody>\n",
              "</table>\n",
              "<p>4162 rows × 3 columns</p>\n",
              "</div>\n",
              "      <button class=\"colab-df-convert\" onclick=\"convertToInteractive('df-11e87fdd-9476-43e2-8fbf-4b5256aca4f9')\"\n",
              "              title=\"Convert this dataframe to an interactive table.\"\n",
              "              style=\"display:none;\">\n",
              "        \n",
              "  <svg xmlns=\"http://www.w3.org/2000/svg\" height=\"24px\"viewBox=\"0 0 24 24\"\n",
              "       width=\"24px\">\n",
              "    <path d=\"M0 0h24v24H0V0z\" fill=\"none\"/>\n",
              "    <path d=\"M18.56 5.44l.94 2.06.94-2.06 2.06-.94-2.06-.94-.94-2.06-.94 2.06-2.06.94zm-11 1L8.5 8.5l.94-2.06 2.06-.94-2.06-.94L8.5 2.5l-.94 2.06-2.06.94zm10 10l.94 2.06.94-2.06 2.06-.94-2.06-.94-.94-2.06-.94 2.06-2.06.94z\"/><path d=\"M17.41 7.96l-1.37-1.37c-.4-.4-.92-.59-1.43-.59-.52 0-1.04.2-1.43.59L10.3 9.45l-7.72 7.72c-.78.78-.78 2.05 0 2.83L4 21.41c.39.39.9.59 1.41.59.51 0 1.02-.2 1.41-.59l7.78-7.78 2.81-2.81c.8-.78.8-2.07 0-2.86zM5.41 20L4 18.59l7.72-7.72 1.47 1.35L5.41 20z\"/>\n",
              "  </svg>\n",
              "      </button>\n",
              "      \n",
              "  <style>\n",
              "    .colab-df-container {\n",
              "      display:flex;\n",
              "      flex-wrap:wrap;\n",
              "      gap: 12px;\n",
              "    }\n",
              "\n",
              "    .colab-df-convert {\n",
              "      background-color: #E8F0FE;\n",
              "      border: none;\n",
              "      border-radius: 50%;\n",
              "      cursor: pointer;\n",
              "      display: none;\n",
              "      fill: #1967D2;\n",
              "      height: 32px;\n",
              "      padding: 0 0 0 0;\n",
              "      width: 32px;\n",
              "    }\n",
              "\n",
              "    .colab-df-convert:hover {\n",
              "      background-color: #E2EBFA;\n",
              "      box-shadow: 0px 1px 2px rgba(60, 64, 67, 0.3), 0px 1px 3px 1px rgba(60, 64, 67, 0.15);\n",
              "      fill: #174EA6;\n",
              "    }\n",
              "\n",
              "    [theme=dark] .colab-df-convert {\n",
              "      background-color: #3B4455;\n",
              "      fill: #D2E3FC;\n",
              "    }\n",
              "\n",
              "    [theme=dark] .colab-df-convert:hover {\n",
              "      background-color: #434B5C;\n",
              "      box-shadow: 0px 1px 3px 1px rgba(0, 0, 0, 0.15);\n",
              "      filter: drop-shadow(0px 1px 2px rgba(0, 0, 0, 0.3));\n",
              "      fill: #FFFFFF;\n",
              "    }\n",
              "  </style>\n",
              "\n",
              "      <script>\n",
              "        const buttonEl =\n",
              "          document.querySelector('#df-11e87fdd-9476-43e2-8fbf-4b5256aca4f9 button.colab-df-convert');\n",
              "        buttonEl.style.display =\n",
              "          google.colab.kernel.accessAllowed ? 'block' : 'none';\n",
              "\n",
              "        async function convertToInteractive(key) {\n",
              "          const element = document.querySelector('#df-11e87fdd-9476-43e2-8fbf-4b5256aca4f9');\n",
              "          const dataTable =\n",
              "            await google.colab.kernel.invokeFunction('convertToInteractive',\n",
              "                                                     [key], {});\n",
              "          if (!dataTable) return;\n",
              "\n",
              "          const docLinkHtml = 'Like what you see? Visit the ' +\n",
              "            '<a target=\"_blank\" href=https://colab.research.google.com/notebooks/data_table.ipynb>data table notebook</a>'\n",
              "            + ' to learn more about interactive tables.';\n",
              "          element.innerHTML = '';\n",
              "          dataTable['output_type'] = 'display_data';\n",
              "          await google.colab.output.renderOutput(dataTable, element);\n",
              "          const docLink = document.createElement('div');\n",
              "          docLink.innerHTML = docLinkHtml;\n",
              "          element.appendChild(docLink);\n",
              "        }\n",
              "      </script>\n",
              "    </div>\n",
              "  </div>\n",
              "  "
            ],
            "text/plain": [
              "            CloseBTC  CloseGold  CloseSPY\n",
              "Date                                     \n",
              "2010-07-19       0.1     1181.7    107.29\n",
              "2010-07-20       0.1     1191.5    108.48\n",
              "2010-07-21       0.1     1191.6    107.07\n",
              "2010-07-22       0.1     1195.5    109.46\n",
              "2010-07-23       0.1     1187.7    110.41\n",
              "...              ...        ...       ...\n",
              "2021-12-05   49405.5        NaN       NaN\n",
              "2021-12-06   50562.1     1779.5    458.79\n",
              "2021-12-07   50595.2     1784.7    468.28\n",
              "2021-12-08   50473.9     1785.5    469.52\n",
              "2021-12-09   47596.6     1776.7    466.35\n",
              "\n",
              "[4162 rows x 3 columns]"
            ]
          },
          "metadata": {},
          "execution_count": 6
        }
      ]
    },
    {
      "cell_type": "code",
      "source": [
        "#Saving the daily close price data for BTC, Gold and SPY for use \n",
        "my_assets.to_csv('daily_assets_data_19-07-10.csv')"
      ],
      "metadata": {
        "id": "EPAs986mWMtv"
      },
      "execution_count": null,
      "outputs": []
    },
    {
      "cell_type": "code",
      "source": [
        "#Resamping this dataframe to a weekly average close price since Gold and SPY don't trade on weekeneds or bank holidays\n",
        "assets_weekly_close = my_assets.resample('W').mean()\n",
        "assets_weekly_close.to_csv('assets_weekly_close_19-07-10.csv')"
      ],
      "metadata": {
        "id": "WK29juk4y-nx"
      },
      "execution_count": null,
      "outputs": []
    },
    {
      "cell_type": "markdown",
      "source": [
        "<b> Creating a hypothetical portfolio using the variance of average weekly returns of BTC and Gold. This is out of curiosity and won't actually be used in my project.  </b>"
      ],
      "metadata": {
        "id": "eyQ973hBwI-5"
      }
    },
    {
      "cell_type": "code",
      "source": [
        "#Creating an annualised covariance matrix for BTC and Gold using the weekly data.\n",
        "#Show weekly simple return\n",
        "returns = assets_weekly_close[{'CloseBTC', 'CloseGold'}].pct_change()\n",
        "returns"
      ],
      "metadata": {
        "id": "Z9VWb4cTqOmX",
        "colab": {
          "base_uri": "https://localhost:8080/",
          "height": 456
        },
        "outputId": "74f5585d-b7ae-4eca-d24b-060d88e67741"
      },
      "execution_count": null,
      "outputs": [
        {
          "output_type": "execute_result",
          "data": {
            "text/html": [
              "\n",
              "  <div id=\"df-8acf2b70-6037-4623-92b0-fbbbe2cf7982\">\n",
              "    <div class=\"colab-df-container\">\n",
              "      <div>\n",
              "<style scoped>\n",
              "    .dataframe tbody tr th:only-of-type {\n",
              "        vertical-align: middle;\n",
              "    }\n",
              "\n",
              "    .dataframe tbody tr th {\n",
              "        vertical-align: top;\n",
              "    }\n",
              "\n",
              "    .dataframe thead th {\n",
              "        text-align: right;\n",
              "    }\n",
              "</style>\n",
              "<table border=\"1\" class=\"dataframe\">\n",
              "  <thead>\n",
              "    <tr style=\"text-align: right;\">\n",
              "      <th></th>\n",
              "      <th>CloseBTC</th>\n",
              "      <th>CloseGold</th>\n",
              "    </tr>\n",
              "    <tr>\n",
              "      <th>Date</th>\n",
              "      <th></th>\n",
              "      <th></th>\n",
              "    </tr>\n",
              "  </thead>\n",
              "  <tbody>\n",
              "    <tr>\n",
              "      <th>2010-07-25</th>\n",
              "      <td>NaN</td>\n",
              "      <td>NaN</td>\n",
              "    </tr>\n",
              "    <tr>\n",
              "      <th>2010-08-01</th>\n",
              "      <td>0.000000</td>\n",
              "      <td>-0.016224</td>\n",
              "    </tr>\n",
              "    <tr>\n",
              "      <th>2010-08-08</th>\n",
              "      <td>0.000000</td>\n",
              "      <td>0.019038</td>\n",
              "    </tr>\n",
              "    <tr>\n",
              "      <th>2010-08-15</th>\n",
              "      <td>0.000000</td>\n",
              "      <td>0.010263</td>\n",
              "    </tr>\n",
              "    <tr>\n",
              "      <th>2010-08-22</th>\n",
              "      <td>0.000000</td>\n",
              "      <td>0.019538</td>\n",
              "    </tr>\n",
              "    <tr>\n",
              "      <th>...</th>\n",
              "      <td>...</td>\n",
              "      <td>...</td>\n",
              "    </tr>\n",
              "    <tr>\n",
              "      <th>2021-11-14</th>\n",
              "      <td>0.055305</td>\n",
              "      <td>0.031304</td>\n",
              "    </tr>\n",
              "    <tr>\n",
              "      <th>2021-11-21</th>\n",
              "      <td>-0.088796</td>\n",
              "      <td>0.007156</td>\n",
              "    </tr>\n",
              "    <tr>\n",
              "      <th>2021-11-28</th>\n",
              "      <td>-0.052089</td>\n",
              "      <td>-0.038017</td>\n",
              "    </tr>\n",
              "    <tr>\n",
              "      <th>2021-12-05</th>\n",
              "      <td>-0.038307</td>\n",
              "      <td>-0.007832</td>\n",
              "    </tr>\n",
              "    <tr>\n",
              "      <th>2021-12-12</th>\n",
              "      <td>-0.083989</td>\n",
              "      <td>0.001732</td>\n",
              "    </tr>\n",
              "  </tbody>\n",
              "</table>\n",
              "<p>595 rows × 2 columns</p>\n",
              "</div>\n",
              "      <button class=\"colab-df-convert\" onclick=\"convertToInteractive('df-8acf2b70-6037-4623-92b0-fbbbe2cf7982')\"\n",
              "              title=\"Convert this dataframe to an interactive table.\"\n",
              "              style=\"display:none;\">\n",
              "        \n",
              "  <svg xmlns=\"http://www.w3.org/2000/svg\" height=\"24px\"viewBox=\"0 0 24 24\"\n",
              "       width=\"24px\">\n",
              "    <path d=\"M0 0h24v24H0V0z\" fill=\"none\"/>\n",
              "    <path d=\"M18.56 5.44l.94 2.06.94-2.06 2.06-.94-2.06-.94-.94-2.06-.94 2.06-2.06.94zm-11 1L8.5 8.5l.94-2.06 2.06-.94-2.06-.94L8.5 2.5l-.94 2.06-2.06.94zm10 10l.94 2.06.94-2.06 2.06-.94-2.06-.94-.94-2.06-.94 2.06-2.06.94z\"/><path d=\"M17.41 7.96l-1.37-1.37c-.4-.4-.92-.59-1.43-.59-.52 0-1.04.2-1.43.59L10.3 9.45l-7.72 7.72c-.78.78-.78 2.05 0 2.83L4 21.41c.39.39.9.59 1.41.59.51 0 1.02-.2 1.41-.59l7.78-7.78 2.81-2.81c.8-.78.8-2.07 0-2.86zM5.41 20L4 18.59l7.72-7.72 1.47 1.35L5.41 20z\"/>\n",
              "  </svg>\n",
              "      </button>\n",
              "      \n",
              "  <style>\n",
              "    .colab-df-container {\n",
              "      display:flex;\n",
              "      flex-wrap:wrap;\n",
              "      gap: 12px;\n",
              "    }\n",
              "\n",
              "    .colab-df-convert {\n",
              "      background-color: #E8F0FE;\n",
              "      border: none;\n",
              "      border-radius: 50%;\n",
              "      cursor: pointer;\n",
              "      display: none;\n",
              "      fill: #1967D2;\n",
              "      height: 32px;\n",
              "      padding: 0 0 0 0;\n",
              "      width: 32px;\n",
              "    }\n",
              "\n",
              "    .colab-df-convert:hover {\n",
              "      background-color: #E2EBFA;\n",
              "      box-shadow: 0px 1px 2px rgba(60, 64, 67, 0.3), 0px 1px 3px 1px rgba(60, 64, 67, 0.15);\n",
              "      fill: #174EA6;\n",
              "    }\n",
              "\n",
              "    [theme=dark] .colab-df-convert {\n",
              "      background-color: #3B4455;\n",
              "      fill: #D2E3FC;\n",
              "    }\n",
              "\n",
              "    [theme=dark] .colab-df-convert:hover {\n",
              "      background-color: #434B5C;\n",
              "      box-shadow: 0px 1px 3px 1px rgba(0, 0, 0, 0.15);\n",
              "      filter: drop-shadow(0px 1px 2px rgba(0, 0, 0, 0.3));\n",
              "      fill: #FFFFFF;\n",
              "    }\n",
              "  </style>\n",
              "\n",
              "      <script>\n",
              "        const buttonEl =\n",
              "          document.querySelector('#df-8acf2b70-6037-4623-92b0-fbbbe2cf7982 button.colab-df-convert');\n",
              "        buttonEl.style.display =\n",
              "          google.colab.kernel.accessAllowed ? 'block' : 'none';\n",
              "\n",
              "        async function convertToInteractive(key) {\n",
              "          const element = document.querySelector('#df-8acf2b70-6037-4623-92b0-fbbbe2cf7982');\n",
              "          const dataTable =\n",
              "            await google.colab.kernel.invokeFunction('convertToInteractive',\n",
              "                                                     [key], {});\n",
              "          if (!dataTable) return;\n",
              "\n",
              "          const docLinkHtml = 'Like what you see? Visit the ' +\n",
              "            '<a target=\"_blank\" href=https://colab.research.google.com/notebooks/data_table.ipynb>data table notebook</a>'\n",
              "            + ' to learn more about interactive tables.';\n",
              "          element.innerHTML = '';\n",
              "          dataTable['output_type'] = 'display_data';\n",
              "          await google.colab.output.renderOutput(dataTable, element);\n",
              "          const docLink = document.createElement('div');\n",
              "          docLink.innerHTML = docLinkHtml;\n",
              "          element.appendChild(docLink);\n",
              "        }\n",
              "      </script>\n",
              "    </div>\n",
              "  </div>\n",
              "  "
            ],
            "text/plain": [
              "            CloseBTC  CloseGold\n",
              "Date                           \n",
              "2010-07-25       NaN        NaN\n",
              "2010-08-01  0.000000  -0.016224\n",
              "2010-08-08  0.000000   0.019038\n",
              "2010-08-15  0.000000   0.010263\n",
              "2010-08-22  0.000000   0.019538\n",
              "...              ...        ...\n",
              "2021-11-14  0.055305   0.031304\n",
              "2021-11-21 -0.088796   0.007156\n",
              "2021-11-28 -0.052089  -0.038017\n",
              "2021-12-05 -0.038307  -0.007832\n",
              "2021-12-12 -0.083989   0.001732\n",
              "\n",
              "[595 rows x 2 columns]"
            ]
          },
          "metadata": {},
          "execution_count": 58
        }
      ]
    },
    {
      "cell_type": "code",
      "source": [
        "#Create covariance matrix for the returns calculated above\n",
        "cov_matrix = returns.cov()\n",
        "cov_matrix"
      ],
      "metadata": {
        "id": "iqiN3fQCq39D",
        "colab": {
          "base_uri": "https://localhost:8080/",
          "height": 114
        },
        "outputId": "aba73a0a-b4cc-4c90-cc05-ff2bf3c8ceb8"
      },
      "execution_count": null,
      "outputs": [
        {
          "output_type": "execute_result",
          "data": {
            "text/html": [
              "\n",
              "  <div id=\"df-81fdff95-ec5e-4c85-bdf3-1abfde6655b7\">\n",
              "    <div class=\"colab-df-container\">\n",
              "      <div>\n",
              "<style scoped>\n",
              "    .dataframe tbody tr th:only-of-type {\n",
              "        vertical-align: middle;\n",
              "    }\n",
              "\n",
              "    .dataframe tbody tr th {\n",
              "        vertical-align: top;\n",
              "    }\n",
              "\n",
              "    .dataframe thead th {\n",
              "        text-align: right;\n",
              "    }\n",
              "</style>\n",
              "<table border=\"1\" class=\"dataframe\">\n",
              "  <thead>\n",
              "    <tr style=\"text-align: right;\">\n",
              "      <th></th>\n",
              "      <th>CloseBTC</th>\n",
              "      <th>CloseGold</th>\n",
              "    </tr>\n",
              "  </thead>\n",
              "  <tbody>\n",
              "    <tr>\n",
              "      <th>CloseBTC</th>\n",
              "      <td>0.020584</td>\n",
              "      <td>0.000106</td>\n",
              "    </tr>\n",
              "    <tr>\n",
              "      <th>CloseGold</th>\n",
              "      <td>0.000106</td>\n",
              "      <td>0.000348</td>\n",
              "    </tr>\n",
              "  </tbody>\n",
              "</table>\n",
              "</div>\n",
              "      <button class=\"colab-df-convert\" onclick=\"convertToInteractive('df-81fdff95-ec5e-4c85-bdf3-1abfde6655b7')\"\n",
              "              title=\"Convert this dataframe to an interactive table.\"\n",
              "              style=\"display:none;\">\n",
              "        \n",
              "  <svg xmlns=\"http://www.w3.org/2000/svg\" height=\"24px\"viewBox=\"0 0 24 24\"\n",
              "       width=\"24px\">\n",
              "    <path d=\"M0 0h24v24H0V0z\" fill=\"none\"/>\n",
              "    <path d=\"M18.56 5.44l.94 2.06.94-2.06 2.06-.94-2.06-.94-.94-2.06-.94 2.06-2.06.94zm-11 1L8.5 8.5l.94-2.06 2.06-.94-2.06-.94L8.5 2.5l-.94 2.06-2.06.94zm10 10l.94 2.06.94-2.06 2.06-.94-2.06-.94-.94-2.06-.94 2.06-2.06.94z\"/><path d=\"M17.41 7.96l-1.37-1.37c-.4-.4-.92-.59-1.43-.59-.52 0-1.04.2-1.43.59L10.3 9.45l-7.72 7.72c-.78.78-.78 2.05 0 2.83L4 21.41c.39.39.9.59 1.41.59.51 0 1.02-.2 1.41-.59l7.78-7.78 2.81-2.81c.8-.78.8-2.07 0-2.86zM5.41 20L4 18.59l7.72-7.72 1.47 1.35L5.41 20z\"/>\n",
              "  </svg>\n",
              "      </button>\n",
              "      \n",
              "  <style>\n",
              "    .colab-df-container {\n",
              "      display:flex;\n",
              "      flex-wrap:wrap;\n",
              "      gap: 12px;\n",
              "    }\n",
              "\n",
              "    .colab-df-convert {\n",
              "      background-color: #E8F0FE;\n",
              "      border: none;\n",
              "      border-radius: 50%;\n",
              "      cursor: pointer;\n",
              "      display: none;\n",
              "      fill: #1967D2;\n",
              "      height: 32px;\n",
              "      padding: 0 0 0 0;\n",
              "      width: 32px;\n",
              "    }\n",
              "\n",
              "    .colab-df-convert:hover {\n",
              "      background-color: #E2EBFA;\n",
              "      box-shadow: 0px 1px 2px rgba(60, 64, 67, 0.3), 0px 1px 3px 1px rgba(60, 64, 67, 0.15);\n",
              "      fill: #174EA6;\n",
              "    }\n",
              "\n",
              "    [theme=dark] .colab-df-convert {\n",
              "      background-color: #3B4455;\n",
              "      fill: #D2E3FC;\n",
              "    }\n",
              "\n",
              "    [theme=dark] .colab-df-convert:hover {\n",
              "      background-color: #434B5C;\n",
              "      box-shadow: 0px 1px 3px 1px rgba(0, 0, 0, 0.15);\n",
              "      filter: drop-shadow(0px 1px 2px rgba(0, 0, 0, 0.3));\n",
              "      fill: #FFFFFF;\n",
              "    }\n",
              "  </style>\n",
              "\n",
              "      <script>\n",
              "        const buttonEl =\n",
              "          document.querySelector('#df-81fdff95-ec5e-4c85-bdf3-1abfde6655b7 button.colab-df-convert');\n",
              "        buttonEl.style.display =\n",
              "          google.colab.kernel.accessAllowed ? 'block' : 'none';\n",
              "\n",
              "        async function convertToInteractive(key) {\n",
              "          const element = document.querySelector('#df-81fdff95-ec5e-4c85-bdf3-1abfde6655b7');\n",
              "          const dataTable =\n",
              "            await google.colab.kernel.invokeFunction('convertToInteractive',\n",
              "                                                     [key], {});\n",
              "          if (!dataTable) return;\n",
              "\n",
              "          const docLinkHtml = 'Like what you see? Visit the ' +\n",
              "            '<a target=\"_blank\" href=https://colab.research.google.com/notebooks/data_table.ipynb>data table notebook</a>'\n",
              "            + ' to learn more about interactive tables.';\n",
              "          element.innerHTML = '';\n",
              "          dataTable['output_type'] = 'display_data';\n",
              "          await google.colab.output.renderOutput(dataTable, element);\n",
              "          const docLink = document.createElement('div');\n",
              "          docLink.innerHTML = docLinkHtml;\n",
              "          element.appendChild(docLink);\n",
              "        }\n",
              "      </script>\n",
              "    </div>\n",
              "  </div>\n",
              "  "
            ],
            "text/plain": [
              "           CloseBTC  CloseGold\n",
              "CloseBTC   0.020584   0.000106\n",
              "CloseGold  0.000106   0.000348"
            ]
          },
          "metadata": {},
          "execution_count": 22
        }
      ]
    },
    {
      "cell_type": "code",
      "source": [
        "#Portfolio fun: [Hypothetical weights added to each asset - in reality should be more heavily weighted to Gold as less volatile (more risk-averse)]\n",
        "weights = np.array([0.5, 0.5])\n",
        "\n",
        "#Calculate the portfolio variance. Covariance matrix calculated above...\n",
        "port_variance = np.dot( weights.T, np.dot(cov_matrix, weights))\n",
        "port_variance"
      ],
      "metadata": {
        "id": "BGf4snIDuVMs"
      },
      "execution_count": null,
      "outputs": []
    },
    {
      "cell_type": "code",
      "source": [
        "#Calculate the portfolio standard deviation\n",
        "port_volatility = np.sqrt(port_variance)\n",
        "port_volatility"
      ],
      "metadata": {
        "id": "g0ffM2GbvKj0"
      },
      "execution_count": null,
      "outputs": []
    },
    {
      "cell_type": "code",
      "source": [
        "#Calculate the annual portfolio return\n",
        "portfolioSimpleAnnualReturn = np.sum(returns.mean() * weights) * 52\n",
        "portfolioSimpleAnnualReturn"
      ],
      "metadata": {
        "id": "aQYJNeTkvxmz"
      },
      "execution_count": null,
      "outputs": []
    },
    {
      "cell_type": "code",
      "source": [
        "#Show the expected annual return, volatility (risk) and variance\n",
        "percent_var = str(round(port_variance, 2) * 100) + '%'\n",
        "percent_vols = str(round(port_volatility, 2) * 100) + '%'\n",
        "percent_ret = str(round(portfolioSimpleAnnualReturn, 2) * 100) + '%'\n",
        "\n",
        "print('Expected annual reuturn: '+ percent_ret)\n",
        "print('Annual volatility / risk: ' + percent_vols)\n",
        "print('Annual variance: ' + percent_var)"
      ],
      "metadata": {
        "colab": {
          "base_uri": "https://localhost:8080/"
        },
        "id": "5p_89kVxv3Qf",
        "outputId": "7c8fea2d-6976-4041-c9c7-f88ef3352564"
      },
      "execution_count": null,
      "outputs": [
        {
          "output_type": "stream",
          "name": "stdout",
          "text": [
            "Expected annual reuturn: 83.0%\n",
            "Annual volatility / risk: 7.000000000000001%\n",
            "Annual variance: 1.0%\n"
          ]
        }
      ]
    },
    {
      "cell_type": "markdown",
      "source": [
        "<b> Calculating the variance of BTC and Gold from 2011 to 2021 -> very large date range so gives a good idea of whether BTC is a 'safe-haven' asset like Gold. \n",
        "</b>"
      ],
      "metadata": {
        "id": "D4IIeQbZIkxA"
      }
    },
    {
      "cell_type": "code",
      "source": [
        "#Assigning a variable to the Close price of BTC and Gold so i can calculate the variance in their weekly prices from 2010-2021\n",
        "data = assets_weekly_close[{'CloseBTC', 'CloseGold'}]"
      ],
      "metadata": {
        "id": "KgIC2Ekqqtv9"
      },
      "execution_count": null,
      "outputs": []
    },
    {
      "cell_type": "code",
      "source": [
        "#Calculate the total number of observations in weekly data\n",
        "n = len(data)"
      ],
      "metadata": {
        "id": "ZI1BePR0rVUp"
      },
      "execution_count": null,
      "outputs": []
    },
    {
      "cell_type": "code",
      "source": [
        "#Calculate the mean of both BTC and Gold\n",
        "meanBTC = sum(data['CloseBTC']) / n\n",
        "meanGold = sum(data['CloseGold']) / n\n",
        "(meanBTC, meanGold)"
      ],
      "metadata": {
        "colab": {
          "base_uri": "https://localhost:8080/"
        },
        "id": "fxqhF88-tfHy",
        "outputId": "b3ecc674-b4ec-40e3-cc61-80cd333971f4"
      },
      "execution_count": null,
      "outputs": [
        {
          "output_type": "execute_result",
          "data": {
            "text/plain": [
              "(6706.935474189678, 1470.5389260504205)"
            ]
          },
          "metadata": {},
          "execution_count": 106
        }
      ]
    },
    {
      "cell_type": "code",
      "source": [
        "#Calculate the deviation of each asset from the mean at each weekly interval and then square the result\n",
        "deviationsBTC = (data['CloseBTC'] - meanBTC) ** 2\n",
        "deviationsGold = (data['CloseGold'] - meanGold) ** 2"
      ],
      "metadata": {
        "id": "FvPpJdm4ttUU"
      },
      "execution_count": null,
      "outputs": []
    },
    {
      "cell_type": "code",
      "source": [
        "#Calculate the variance of both BTC and Gold\n",
        "varianceBTC = sum(deviationsBTC) / n\n",
        "varianceGold = sum(deviationsGold) / n\n",
        "(varianceBTC, varianceGold)"
      ],
      "metadata": {
        "colab": {
          "base_uri": "https://localhost:8080/"
        },
        "id": "rK8_YXVZt-9T",
        "outputId": "40e39a20-1ac3-4084-9a7d-82c388a1c49b"
      },
      "execution_count": null,
      "outputs": [
        {
          "output_type": "execute_result",
          "data": {
            "text/plain": [
              "(175632997.2661312, 45307.933294815106)"
            ]
          },
          "metadata": {},
          "execution_count": 108
        }
      ]
    },
    {
      "cell_type": "code",
      "source": [
        "#Calculate the standard deviation of each asset\n",
        "from math import sqrt\n",
        "sdBTC = sqrt(varianceBTC)\n",
        "sdGold = sqrt(varianceGold)\n",
        "(sdBTC, sdGold)"
      ],
      "metadata": {
        "colab": {
          "base_uri": "https://localhost:8080/"
        },
        "id": "9m9eReY3uHjj",
        "outputId": "56fddbe3-ccff-4a64-c41f-86f3f7d7c55d"
      },
      "execution_count": null,
      "outputs": [
        {
          "output_type": "execute_result",
          "data": {
            "text/plain": [
              "(13252.660007188413, 212.8566026573174)"
            ]
          },
          "metadata": {},
          "execution_count": 115
        }
      ]
    },
    {
      "cell_type": "code",
      "source": [
        "#Converting the values I calculated above into string variables so i can print them for easier interpretation in my write-up. \n",
        "varBTC = str(round(varianceBTC, 2))\n",
        "sdBTC = str(sdBTC)\n",
        "varGold = str(round(varianceGold, 2))\n",
        "sdGold = str(sdGold)\n",
        "\n",
        "print('Variance of Bitcoin: '+ varBTC)\n",
        "print('Standard Deviation of Bitcoin: '+ sdBTC)\n",
        "print('Variance of Gold: '+ varGold)\n",
        "print('Standard Deviation of Gold: '+ sdGold)"
      ],
      "metadata": {
        "colab": {
          "base_uri": "https://localhost:8080/"
        },
        "id": "FJoQy8FYuQcE",
        "outputId": "ba8181e3-f28d-4845-c043-0691b4a137c0"
      },
      "execution_count": null,
      "outputs": [
        {
          "output_type": "stream",
          "name": "stdout",
          "text": [
            "Variance of Bitcoin: 175632997.27\n",
            "Standard Deviation of Bitcoin: 13252.66\n",
            "Variance of Gold: 45307.93\n",
            "Standard Deviation of Gold: 212.857\n"
          ]
        }
      ]
    },
    {
      "cell_type": "markdown",
      "source": [
        "<b> Scraping data from yahoo finance, not used in my project since larger dataset available from investing.com </b>"
      ],
      "metadata": {
        "id": "bgxSd9sMwm-G"
      }
    },
    {
      "cell_type": "code",
      "source": [
        "#Install yahoo finance\n",
        "!pip install yfinance"
      ],
      "metadata": {
        "id": "NDTaei_HwkSE"
      },
      "execution_count": null,
      "outputs": []
    },
    {
      "cell_type": "code",
      "source": [
        "import yfinance as yf"
      ],
      "metadata": {
        "id": "WEzRz7FHwk2_"
      },
      "execution_count": null,
      "outputs": []
    },
    {
      "cell_type": "code",
      "metadata": {
        "id": "AIZ5a9sWHSO3"
      },
      "source": [
        "#Download data from yahoo finance for BTC and Gold using a method inspired by Denes\n",
        "btc = yf.Ticker(\"BTC-USD\").history(period='10y')\n",
        "gold = yf.Ticker(\"GC=F\").history(period='10y')"
      ],
      "execution_count": null,
      "outputs": []
    },
    {
      "cell_type": "code",
      "metadata": {
        "id": "W4TFqDXbwLer"
      },
      "source": [
        "#The next 8 code blocks were used before i discovered investpy and required me to manually download each dataset from investing.com and save them to my Github repo - far less efficient. \n",
        "#Read csv file on Github that I saved from investing.com, index the date to allow resample() function\n",
        "btc_daily = pd.read_csv('https://raw.githubusercontent.com/jamiebbb/jamiebbb.github.io/main/project_data/btcdaily_24.11.21.csv',\n",
        "                                      parse_dates=['Date'],\n",
        "                                      index_col=['Date'],\n",
        "                                      na_values=['999.99'])\n",
        "# View first few rows to ensure date properly indexed\n",
        "btc_daily.head(3)"
      ],
      "execution_count": null,
      "outputs": []
    },
    {
      "cell_type": "code",
      "metadata": {
        "id": "fDgmaj_kukFN"
      },
      "source": [
        "#Calculate the mean of values over a weekly time period\n",
        "btc_weekly = btc_daily.resample('W').mean()"
      ],
      "execution_count": null,
      "outputs": []
    },
    {
      "cell_type": "code",
      "metadata": {
        "id": "QmDOfp5p1QGL"
      },
      "source": [
        "#Display new dataframe where we now have average weekly values for Price, Open, High and Low\n",
        "btc_weekly.head(3)"
      ],
      "execution_count": null,
      "outputs": []
    },
    {
      "cell_type": "code",
      "metadata": {
        "id": "06TlcSYsw9Js"
      },
      "source": [
        "#Same as BTC but now for Gold\n",
        "gold_daily = pd.read_csv('https://raw.githubusercontent.com/jamiebbb/jamiebbb.github.io/main/project_data/golddaily_24.11.21.csv',\n",
        "                                      parse_dates=['Date'],\n",
        "                                      index_col=['Date'],\n",
        "                                      na_values=['999.99'])\n",
        "# View first few rows\n",
        "gold_daily.head(3)"
      ],
      "execution_count": null,
      "outputs": []
    },
    {
      "cell_type": "code",
      "metadata": {
        "id": "aHa_mrGIxIiT"
      },
      "source": [
        "#Same code as Bitcoin but for Gold\n",
        "gold_weekly = gold_daily.resample('W').mean()"
      ],
      "execution_count": null,
      "outputs": []
    },
    {
      "cell_type": "code",
      "metadata": {
        "id": "qoXN8RQ7xMl7"
      },
      "source": [
        "gold_weekly.head(3)"
      ],
      "execution_count": null,
      "outputs": []
    },
    {
      "cell_type": "code",
      "metadata": {
        "id": "GtvuoRs7rHa5"
      },
      "source": [
        "#Join the datasets into a single dataframe\n",
        "btc_gold_weeklydata = btc_weekly.join(gold_weekly, rsuffix='Gold', lsuffix='BTC')\n",
        "btc_gold_weeklydata"
      ],
      "execution_count": null,
      "outputs": []
    },
    {
      "cell_type": "code",
      "metadata": {
        "id": "VR3iY9RN2SXw"
      },
      "source": [
        "#Drop columns we no longer need (Open, High and Low) and save as a csv\n",
        "btc_gold_weeklydata.drop(columns=['OpenBTC', 'HighBTC', 'LowBTC','OpenGold', 'HighGold', 'LowGold']).to_csv('btc_gold_price_28-11-21.csv')"
      ],
      "execution_count": null,
      "outputs": []
    },
    {
      "cell_type": "markdown",
      "metadata": {
        "id": "uaBS9s76s3zu"
      },
      "source": [
        "<b> Creating visualisations and Seaborn regression. Also, saving min-max and z-score data for use in 2 charts in project. </b>"
      ]
    },
    {
      "cell_type": "code",
      "metadata": {
        "id": "wKCh1Q9qstj6"
      },
      "source": [
        "#Import further libraries that will be used for graphing\n",
        "import matplotlib.pyplot as plt\n",
        "plt.style.use('classic')\n",
        "%matplotlib inline\n",
        "import seaborn as sns\n",
        "sns.set()"
      ],
      "execution_count": null,
      "outputs": []
    },
    {
      "cell_type": "code",
      "metadata": {
        "id": "87NsPoqAF94_"
      },
      "source": [
        "#Import dataset\n",
        "assets = pd.read_csv('/content/btc_gold_weekly_closeprice_09-12-21.csv')"
      ],
      "execution_count": null,
      "outputs": []
    },
    {
      "cell_type": "code",
      "source": [
        "#Assets including SPY\n",
        "assets = pd.read_csv('assets_weekly_close_19-07-10.csv')\n",
        "assets"
      ],
      "metadata": {
        "id": "-OorecDKzuAY"
      },
      "execution_count": null,
      "outputs": []
    },
    {
      "cell_type": "code",
      "metadata": {
        "colab": {
          "base_uri": "https://localhost:8080/"
        },
        "id": "iuBPYt2rwIHK",
        "outputId": "d98755c5-bedb-445e-a4d1-9aef24096bdc"
      },
      "source": [
        "#Calculate the max, min and range using the weekly average close price of Bitcoin from 2010\n",
        "btc_max = assets['CloseBTC'].max()\n",
        "btc_min = assets['CloseBTC'].min()\n",
        "btc_range = btc_max - btc_min\n",
        "btc_max, btc_min, btc_range"
      ],
      "execution_count": null,
      "outputs": [
        {
          "output_type": "execute_result",
          "data": {
            "text/plain": [
              "(65458.985714285714, 0.1, 65458.885714285716)"
            ]
          },
          "metadata": {},
          "execution_count": 31
        }
      ]
    },
    {
      "cell_type": "code",
      "metadata": {
        "colab": {
          "base_uri": "https://localhost:8080/"
        },
        "id": "nOjQ7DKfxURi",
        "outputId": "3dd616a4-f22f-4175-dc14-44a257c9a5fd"
      },
      "source": [
        "#Calculate the max, min and range using the weekly average close price of Gold from 2010\n",
        "gold_max = assets['CloseGold'].max()\n",
        "gold_min = assets['CloseGold'].min()\n",
        "gold_range = gold_max - gold_min\n",
        "gold_max, gold_min, gold_range"
      ],
      "execution_count": null,
      "outputs": [
        {
          "output_type": "execute_result",
          "data": {
            "text/plain": [
              "(2074.46, 1114.0, 960.46)"
            ]
          },
          "metadata": {},
          "execution_count": 30
        }
      ]
    },
    {
      "cell_type": "code",
      "source": [
        "#Calculate the max, min and range using the weekly average close price of SPY from 2010\n",
        "spy_max = assets['CloseSPY'].max()\n",
        "spy_min = assets['CloseSPY'].min()\n",
        "spy_range = spy_max - spy_min\n",
        "spy_max, spy_min, spy_range"
      ],
      "metadata": {
        "colab": {
          "base_uri": "https://localhost:8080/"
        },
        "id": "8BjDA9aE0Gz9",
        "outputId": "eaa5eab9-34cc-4eb1-a103-f20feb795f8d"
      },
      "execution_count": null,
      "outputs": [
        {
          "output_type": "execute_result",
          "data": {
            "text/plain": [
              "(468.694, 106.136, 362.558)"
            ]
          },
          "metadata": {},
          "execution_count": 110
        }
      ]
    },
    {
      "cell_type": "code",
      "metadata": {
        "id": "8u4qE-n_xs5i"
      },
      "source": [
        "#Normalise the data for both BTC and Gold (and SPY)\n",
        "assets['CloseBTC_minmax_norm'] = (assets['CloseBTC'] - btc_min) / btc_range\n",
        "assets['CloseGold_minmax_norm'] = (assets['CloseGold'] - gold_min) / gold_range\n",
        "#assets['CloseSPY_minmax_norm'] = (assets['CloseSPY'] - spy_min) / spy_range"
      ],
      "execution_count": null,
      "outputs": []
    },
    {
      "cell_type": "code",
      "metadata": {
        "colab": {
          "base_uri": "https://localhost:8080/"
        },
        "id": "Wqt30fOryR-X",
        "outputId": "293e3e66-77a6-42d1-fb30-a064041c5740"
      },
      "source": [
        "#Reassign labels to new min/max normalisation values\n",
        "btc_max = assets['CloseBTC_minmax_norm'].max()\n",
        "btc_min = assets['CloseBTC_minmax_norm'].min()\n",
        "btc_range = btc_max - btc_min\n",
        "btc_max, btc_min, btc_range"
      ],
      "execution_count": null,
      "outputs": [
        {
          "output_type": "execute_result",
          "data": {
            "text/plain": [
              "(1.0, 0.0, 1.0)"
            ]
          },
          "metadata": {},
          "execution_count": 33
        }
      ]
    },
    {
      "cell_type": "code",
      "metadata": {
        "id": "eNqtnNBwyehW"
      },
      "source": [
        "#Use a loop function to join the dataframes and calculate the minmax_norm values\n",
        "for x in assets.columns[0:0]:\n",
        "  x_max = assets[x].max()\n",
        "  x_min = assets[x].min()\n",
        "  x_range = x_max-x_min\n",
        "  assets['Close' + x + '_minmax_norm'] = (assets[x]-x_min)/x_range"
      ],
      "execution_count": null,
      "outputs": []
    },
    {
      "cell_type": "code",
      "metadata": {
        "colab": {
          "base_uri": "https://localhost:8080/",
          "height": 114
        },
        "id": "V5OEwCY5y01O",
        "outputId": "5591b2b5-7ba3-4406-8e32-4295d371bc5b"
      },
      "source": [
        "#Display the first 2 rows to ensure method is correct\n",
        "assets.head(2)"
      ],
      "execution_count": null,
      "outputs": [
        {
          "output_type": "execute_result",
          "data": {
            "text/html": [
              "\n",
              "  <div id=\"df-686f0626-b5f6-4da1-8074-0f6e11a28004\">\n",
              "    <div class=\"colab-df-container\">\n",
              "      <div>\n",
              "<style scoped>\n",
              "    .dataframe tbody tr th:only-of-type {\n",
              "        vertical-align: middle;\n",
              "    }\n",
              "\n",
              "    .dataframe tbody tr th {\n",
              "        vertical-align: top;\n",
              "    }\n",
              "\n",
              "    .dataframe thead th {\n",
              "        text-align: right;\n",
              "    }\n",
              "</style>\n",
              "<table border=\"1\" class=\"dataframe\">\n",
              "  <thead>\n",
              "    <tr style=\"text-align: right;\">\n",
              "      <th></th>\n",
              "      <th>Date</th>\n",
              "      <th>CloseBTC</th>\n",
              "      <th>CloseGold</th>\n",
              "      <th>CloseBTC_minmax_norm</th>\n",
              "      <th>CloseGold_minmax_norm</th>\n",
              "    </tr>\n",
              "  </thead>\n",
              "  <tbody>\n",
              "    <tr>\n",
              "      <th>0</th>\n",
              "      <td>2010-07-25</td>\n",
              "      <td>0.1</td>\n",
              "      <td>1189.6</td>\n",
              "      <td>0.0</td>\n",
              "      <td>0.078712</td>\n",
              "    </tr>\n",
              "    <tr>\n",
              "      <th>1</th>\n",
              "      <td>2010-08-01</td>\n",
              "      <td>0.1</td>\n",
              "      <td>1170.3</td>\n",
              "      <td>0.0</td>\n",
              "      <td>0.058618</td>\n",
              "    </tr>\n",
              "  </tbody>\n",
              "</table>\n",
              "</div>\n",
              "      <button class=\"colab-df-convert\" onclick=\"convertToInteractive('df-686f0626-b5f6-4da1-8074-0f6e11a28004')\"\n",
              "              title=\"Convert this dataframe to an interactive table.\"\n",
              "              style=\"display:none;\">\n",
              "        \n",
              "  <svg xmlns=\"http://www.w3.org/2000/svg\" height=\"24px\"viewBox=\"0 0 24 24\"\n",
              "       width=\"24px\">\n",
              "    <path d=\"M0 0h24v24H0V0z\" fill=\"none\"/>\n",
              "    <path d=\"M18.56 5.44l.94 2.06.94-2.06 2.06-.94-2.06-.94-.94-2.06-.94 2.06-2.06.94zm-11 1L8.5 8.5l.94-2.06 2.06-.94-2.06-.94L8.5 2.5l-.94 2.06-2.06.94zm10 10l.94 2.06.94-2.06 2.06-.94-2.06-.94-.94-2.06-.94 2.06-2.06.94z\"/><path d=\"M17.41 7.96l-1.37-1.37c-.4-.4-.92-.59-1.43-.59-.52 0-1.04.2-1.43.59L10.3 9.45l-7.72 7.72c-.78.78-.78 2.05 0 2.83L4 21.41c.39.39.9.59 1.41.59.51 0 1.02-.2 1.41-.59l7.78-7.78 2.81-2.81c.8-.78.8-2.07 0-2.86zM5.41 20L4 18.59l7.72-7.72 1.47 1.35L5.41 20z\"/>\n",
              "  </svg>\n",
              "      </button>\n",
              "      \n",
              "  <style>\n",
              "    .colab-df-container {\n",
              "      display:flex;\n",
              "      flex-wrap:wrap;\n",
              "      gap: 12px;\n",
              "    }\n",
              "\n",
              "    .colab-df-convert {\n",
              "      background-color: #E8F0FE;\n",
              "      border: none;\n",
              "      border-radius: 50%;\n",
              "      cursor: pointer;\n",
              "      display: none;\n",
              "      fill: #1967D2;\n",
              "      height: 32px;\n",
              "      padding: 0 0 0 0;\n",
              "      width: 32px;\n",
              "    }\n",
              "\n",
              "    .colab-df-convert:hover {\n",
              "      background-color: #E2EBFA;\n",
              "      box-shadow: 0px 1px 2px rgba(60, 64, 67, 0.3), 0px 1px 3px 1px rgba(60, 64, 67, 0.15);\n",
              "      fill: #174EA6;\n",
              "    }\n",
              "\n",
              "    [theme=dark] .colab-df-convert {\n",
              "      background-color: #3B4455;\n",
              "      fill: #D2E3FC;\n",
              "    }\n",
              "\n",
              "    [theme=dark] .colab-df-convert:hover {\n",
              "      background-color: #434B5C;\n",
              "      box-shadow: 0px 1px 3px 1px rgba(0, 0, 0, 0.15);\n",
              "      filter: drop-shadow(0px 1px 2px rgba(0, 0, 0, 0.3));\n",
              "      fill: #FFFFFF;\n",
              "    }\n",
              "  </style>\n",
              "\n",
              "      <script>\n",
              "        const buttonEl =\n",
              "          document.querySelector('#df-686f0626-b5f6-4da1-8074-0f6e11a28004 button.colab-df-convert');\n",
              "        buttonEl.style.display =\n",
              "          google.colab.kernel.accessAllowed ? 'block' : 'none';\n",
              "\n",
              "        async function convertToInteractive(key) {\n",
              "          const element = document.querySelector('#df-686f0626-b5f6-4da1-8074-0f6e11a28004');\n",
              "          const dataTable =\n",
              "            await google.colab.kernel.invokeFunction('convertToInteractive',\n",
              "                                                     [key], {});\n",
              "          if (!dataTable) return;\n",
              "\n",
              "          const docLinkHtml = 'Like what you see? Visit the ' +\n",
              "            '<a target=\"_blank\" href=https://colab.research.google.com/notebooks/data_table.ipynb>data table notebook</a>'\n",
              "            + ' to learn more about interactive tables.';\n",
              "          element.innerHTML = '';\n",
              "          dataTable['output_type'] = 'display_data';\n",
              "          await google.colab.output.renderOutput(dataTable, element);\n",
              "          const docLink = document.createElement('div');\n",
              "          docLink.innerHTML = docLinkHtml;\n",
              "          element.appendChild(docLink);\n",
              "        }\n",
              "      </script>\n",
              "    </div>\n",
              "  </div>\n",
              "  "
            ],
            "text/plain": [
              "         Date  CloseBTC  CloseGold  CloseBTC_minmax_norm  CloseGold_minmax_norm\n",
              "0  2010-07-25       0.1     1189.6                   0.0               0.078712\n",
              "1  2010-08-01       0.1     1170.3                   0.0               0.058618"
            ]
          },
          "metadata": {},
          "execution_count": 35
        }
      ]
    },
    {
      "cell_type": "code",
      "metadata": {
        "colab": {
          "base_uri": "https://localhost:8080/"
        },
        "id": "8Rqrf6xL3KUs",
        "outputId": "0cdc0422-f3f4-4f2b-a231-33034e543d17"
      },
      "source": [
        "#Finding the right range of data to use (-2 changes to -3 when including SPY)\n",
        "assets.columns[-2:]"
      ],
      "execution_count": null,
      "outputs": [
        {
          "output_type": "execute_result",
          "data": {
            "text/plain": [
              "Index(['CloseBTC_minmax_norm', 'CloseGold_minmax_norm'], dtype='object')"
            ]
          },
          "metadata": {},
          "execution_count": 37
        }
      ]
    },
    {
      "cell_type": "code",
      "metadata": {
        "colab": {
          "base_uri": "https://localhost:8080/",
          "height": 280
        },
        "id": "96mMtn603MhS",
        "outputId": "834ee717-293f-4ade-8686-e850cc9c1ae3"
      },
      "source": [
        "#Calculating the histogram for both assets (-2 changes to -3 when including SPY)\n",
        "for x in assets.columns[-2:]:\n",
        "    plt.hist(assets[x], alpha=0.5,bins=20)\n",
        "    plt.legend(assets.columns[-3:])"
      ],
      "execution_count": null,
      "outputs": [
        {
          "output_type": "display_data",
          "data": {
            "image/png": "[encoded data removed]",
            "text/plain": [
              "<Figure size 432x288 with 1 Axes>"
            ]
          },
          "metadata": {}
        }
      ]
    },
    {
      "cell_type": "code",
      "metadata": {
        "colab": {
          "base_uri": "https://localhost:8080/",
          "height": 424
        },
        "id": "zowTIMrl5K6b",
        "outputId": "48bcedd3-f757-4862-dc70-9e7dad086607"
      },
      "source": [
        "#Reset the index so i can utilise date on the x-axis\n",
        "assets = assets.reset_index()\n",
        "assets"
      ],
      "execution_count": null,
      "outputs": [
        {
          "output_type": "execute_result",
          "data": {
            "text/html": [
              "\n",
              "  <div id=\"df-2dc9f254-be84-45ba-a32f-0421a1302223\">\n",
              "    <div class=\"colab-df-container\">\n",
              "      <div>\n",
              "<style scoped>\n",
              "    .dataframe tbody tr th:only-of-type {\n",
              "        vertical-align: middle;\n",
              "    }\n",
              "\n",
              "    .dataframe tbody tr th {\n",
              "        vertical-align: top;\n",
              "    }\n",
              "\n",
              "    .dataframe thead th {\n",
              "        text-align: right;\n",
              "    }\n",
              "</style>\n",
              "<table border=\"1\" class=\"dataframe\">\n",
              "  <thead>\n",
              "    <tr style=\"text-align: right;\">\n",
              "      <th></th>\n",
              "      <th>index</th>\n",
              "      <th>Date</th>\n",
              "      <th>CloseBTC</th>\n",
              "      <th>CloseGold</th>\n",
              "      <th>CloseBTC_minmax_norm</th>\n",
              "      <th>CloseGold_minmax_norm</th>\n",
              "    </tr>\n",
              "  </thead>\n",
              "  <tbody>\n",
              "    <tr>\n",
              "      <th>0</th>\n",
              "      <td>0</td>\n",
              "      <td>2010-07-25</td>\n",
              "      <td>0.100000</td>\n",
              "      <td>1189.60</td>\n",
              "      <td>0.000000</td>\n",
              "      <td>0.078712</td>\n",
              "    </tr>\n",
              "    <tr>\n",
              "      <th>1</th>\n",
              "      <td>1</td>\n",
              "      <td>2010-08-01</td>\n",
              "      <td>0.100000</td>\n",
              "      <td>1170.30</td>\n",
              "      <td>0.000000</td>\n",
              "      <td>0.058618</td>\n",
              "    </tr>\n",
              "    <tr>\n",
              "      <th>2</th>\n",
              "      <td>2</td>\n",
              "      <td>2010-08-08</td>\n",
              "      <td>0.100000</td>\n",
              "      <td>1192.58</td>\n",
              "      <td>0.000000</td>\n",
              "      <td>0.081815</td>\n",
              "    </tr>\n",
              "    <tr>\n",
              "      <th>3</th>\n",
              "      <td>3</td>\n",
              "      <td>2010-08-15</td>\n",
              "      <td>0.100000</td>\n",
              "      <td>1204.82</td>\n",
              "      <td>0.000000</td>\n",
              "      <td>0.094559</td>\n",
              "    </tr>\n",
              "    <tr>\n",
              "      <th>4</th>\n",
              "      <td>4</td>\n",
              "      <td>2010-08-22</td>\n",
              "      <td>0.100000</td>\n",
              "      <td>1228.36</td>\n",
              "      <td>0.000000</td>\n",
              "      <td>0.119068</td>\n",
              "    </tr>\n",
              "    <tr>\n",
              "      <th>...</th>\n",
              "      <td>...</td>\n",
              "      <td>...</td>\n",
              "      <td>...</td>\n",
              "      <td>...</td>\n",
              "      <td>...</td>\n",
              "      <td>...</td>\n",
              "    </tr>\n",
              "    <tr>\n",
              "      <th>590</th>\n",
              "      <td>590</td>\n",
              "      <td>2021-11-14</td>\n",
              "      <td>65458.985714</td>\n",
              "      <td>1850.16</td>\n",
              "      <td>1.000000</td>\n",
              "      <td>0.766466</td>\n",
              "    </tr>\n",
              "    <tr>\n",
              "      <th>591</th>\n",
              "      <td>591</td>\n",
              "      <td>2021-11-21</td>\n",
              "      <td>59646.485714</td>\n",
              "      <td>1863.40</td>\n",
              "      <td>0.911204</td>\n",
              "      <td>0.780251</td>\n",
              "    </tr>\n",
              "    <tr>\n",
              "      <th>592</th>\n",
              "      <td>592</td>\n",
              "      <td>2021-11-28</td>\n",
              "      <td>56539.585714</td>\n",
              "      <td>1792.56</td>\n",
              "      <td>0.863740</td>\n",
              "      <td>0.706495</td>\n",
              "    </tr>\n",
              "    <tr>\n",
              "      <th>593</th>\n",
              "      <td>593</td>\n",
              "      <td>2021-12-05</td>\n",
              "      <td>54373.742857</td>\n",
              "      <td>1778.52</td>\n",
              "      <td>0.830653</td>\n",
              "      <td>0.691877</td>\n",
              "    </tr>\n",
              "    <tr>\n",
              "      <th>594</th>\n",
              "      <td>594</td>\n",
              "      <td>2021-12-12</td>\n",
              "      <td>49806.950000</td>\n",
              "      <td>1781.60</td>\n",
              "      <td>0.760888</td>\n",
              "      <td>0.695084</td>\n",
              "    </tr>\n",
              "  </tbody>\n",
              "</table>\n",
              "<p>595 rows × 6 columns</p>\n",
              "</div>\n",
              "      <button class=\"colab-df-convert\" onclick=\"convertToInteractive('df-2dc9f254-be84-45ba-a32f-0421a1302223')\"\n",
              "              title=\"Convert this dataframe to an interactive table.\"\n",
              "              style=\"display:none;\">\n",
              "        \n",
              "  <svg xmlns=\"http://www.w3.org/2000/svg\" height=\"24px\"viewBox=\"0 0 24 24\"\n",
              "       width=\"24px\">\n",
              "    <path d=\"M0 0h24v24H0V0z\" fill=\"none\"/>\n",
              "    <path d=\"M18.56 5.44l.94 2.06.94-2.06 2.06-.94-2.06-.94-.94-2.06-.94 2.06-2.06.94zm-11 1L8.5 8.5l.94-2.06 2.06-.94-2.06-.94L8.5 2.5l-.94 2.06-2.06.94zm10 10l.94 2.06.94-2.06 2.06-.94-2.06-.94-.94-2.06-.94 2.06-2.06.94z\"/><path d=\"M17.41 7.96l-1.37-1.37c-.4-.4-.92-.59-1.43-.59-.52 0-1.04.2-1.43.59L10.3 9.45l-7.72 7.72c-.78.78-.78 2.05 0 2.83L4 21.41c.39.39.9.59 1.41.59.51 0 1.02-.2 1.41-.59l7.78-7.78 2.81-2.81c.8-.78.8-2.07 0-2.86zM5.41 20L4 18.59l7.72-7.72 1.47 1.35L5.41 20z\"/>\n",
              "  </svg>\n",
              "      </button>\n",
              "      \n",
              "  <style>\n",
              "    .colab-df-container {\n",
              "      display:flex;\n",
              "      flex-wrap:wrap;\n",
              "      gap: 12px;\n",
              "    }\n",
              "\n",
              "    .colab-df-convert {\n",
              "      background-color: #E8F0FE;\n",
              "      border: none;\n",
              "      border-radius: 50%;\n",
              "      cursor: pointer;\n",
              "      display: none;\n",
              "      fill: #1967D2;\n",
              "      height: 32px;\n",
              "      padding: 0 0 0 0;\n",
              "      width: 32px;\n",
              "    }\n",
              "\n",
              "    .colab-df-convert:hover {\n",
              "      background-color: #E2EBFA;\n",
              "      box-shadow: 0px 1px 2px rgba(60, 64, 67, 0.3), 0px 1px 3px 1px rgba(60, 64, 67, 0.15);\n",
              "      fill: #174EA6;\n",
              "    }\n",
              "\n",
              "    [theme=dark] .colab-df-convert {\n",
              "      background-color: #3B4455;\n",
              "      fill: #D2E3FC;\n",
              "    }\n",
              "\n",
              "    [theme=dark] .colab-df-convert:hover {\n",
              "      background-color: #434B5C;\n",
              "      box-shadow: 0px 1px 3px 1px rgba(0, 0, 0, 0.15);\n",
              "      filter: drop-shadow(0px 1px 2px rgba(0, 0, 0, 0.3));\n",
              "      fill: #FFFFFF;\n",
              "    }\n",
              "  </style>\n",
              "\n",
              "      <script>\n",
              "        const buttonEl =\n",
              "          document.querySelector('#df-2dc9f254-be84-45ba-a32f-0421a1302223 button.colab-df-convert');\n",
              "        buttonEl.style.display =\n",
              "          google.colab.kernel.accessAllowed ? 'block' : 'none';\n",
              "\n",
              "        async function convertToInteractive(key) {\n",
              "          const element = document.querySelector('#df-2dc9f254-be84-45ba-a32f-0421a1302223');\n",
              "          const dataTable =\n",
              "            await google.colab.kernel.invokeFunction('convertToInteractive',\n",
              "                                                     [key], {});\n",
              "          if (!dataTable) return;\n",
              "\n",
              "          const docLinkHtml = 'Like what you see? Visit the ' +\n",
              "            '<a target=\"_blank\" href=https://colab.research.google.com/notebooks/data_table.ipynb>data table notebook</a>'\n",
              "            + ' to learn more about interactive tables.';\n",
              "          element.innerHTML = '';\n",
              "          dataTable['output_type'] = 'display_data';\n",
              "          await google.colab.output.renderOutput(dataTable, element);\n",
              "          const docLink = document.createElement('div');\n",
              "          docLink.innerHTML = docLinkHtml;\n",
              "          element.appendChild(docLink);\n",
              "        }\n",
              "      </script>\n",
              "    </div>\n",
              "  </div>\n",
              "  "
            ],
            "text/plain": [
              "     index        Date  ...  CloseBTC_minmax_norm  CloseGold_minmax_norm\n",
              "0        0  2010-07-25  ...              0.000000               0.078712\n",
              "1        1  2010-08-01  ...              0.000000               0.058618\n",
              "2        2  2010-08-08  ...              0.000000               0.081815\n",
              "3        3  2010-08-15  ...              0.000000               0.094559\n",
              "4        4  2010-08-22  ...              0.000000               0.119068\n",
              "..     ...         ...  ...                   ...                    ...\n",
              "590    590  2021-11-14  ...              1.000000               0.766466\n",
              "591    591  2021-11-21  ...              0.911204               0.780251\n",
              "592    592  2021-11-28  ...              0.863740               0.706495\n",
              "593    593  2021-12-05  ...              0.830653               0.691877\n",
              "594    594  2021-12-12  ...              0.760888               0.695084\n",
              "\n",
              "[595 rows x 6 columns]"
            ]
          },
          "metadata": {},
          "execution_count": 40
        }
      ]
    },
    {
      "cell_type": "code",
      "metadata": {
        "id": "b9VzwMKcIEtD",
        "colab": {
          "base_uri": "https://localhost:8080/",
          "height": 424
        },
        "outputId": "0f7746fe-c51f-44f2-cce7-5bfdbd8e1cd3"
      },
      "source": [
        "#Drop index column\n",
        "assets.drop(columns='index')"
      ],
      "execution_count": null,
      "outputs": [
        {
          "output_type": "execute_result",
          "data": {
            "text/html": [
              "\n",
              "  <div id=\"df-abe8c44d-bf0b-4dfc-887a-95d499123d1c\">\n",
              "    <div class=\"colab-df-container\">\n",
              "      <div>\n",
              "<style scoped>\n",
              "    .dataframe tbody tr th:only-of-type {\n",
              "        vertical-align: middle;\n",
              "    }\n",
              "\n",
              "    .dataframe tbody tr th {\n",
              "        vertical-align: top;\n",
              "    }\n",
              "\n",
              "    .dataframe thead th {\n",
              "        text-align: right;\n",
              "    }\n",
              "</style>\n",
              "<table border=\"1\" class=\"dataframe\">\n",
              "  <thead>\n",
              "    <tr style=\"text-align: right;\">\n",
              "      <th></th>\n",
              "      <th>Date</th>\n",
              "      <th>CloseBTC</th>\n",
              "      <th>CloseGold</th>\n",
              "      <th>CloseBTC_minmax_norm</th>\n",
              "      <th>CloseGold_minmax_norm</th>\n",
              "    </tr>\n",
              "  </thead>\n",
              "  <tbody>\n",
              "    <tr>\n",
              "      <th>0</th>\n",
              "      <td>2010-07-25</td>\n",
              "      <td>0.100000</td>\n",
              "      <td>1189.60</td>\n",
              "      <td>0.000000</td>\n",
              "      <td>0.078712</td>\n",
              "    </tr>\n",
              "    <tr>\n",
              "      <th>1</th>\n",
              "      <td>2010-08-01</td>\n",
              "      <td>0.100000</td>\n",
              "      <td>1170.30</td>\n",
              "      <td>0.000000</td>\n",
              "      <td>0.058618</td>\n",
              "    </tr>\n",
              "    <tr>\n",
              "      <th>2</th>\n",
              "      <td>2010-08-08</td>\n",
              "      <td>0.100000</td>\n",
              "      <td>1192.58</td>\n",
              "      <td>0.000000</td>\n",
              "      <td>0.081815</td>\n",
              "    </tr>\n",
              "    <tr>\n",
              "      <th>3</th>\n",
              "      <td>2010-08-15</td>\n",
              "      <td>0.100000</td>\n",
              "      <td>1204.82</td>\n",
              "      <td>0.000000</td>\n",
              "      <td>0.094559</td>\n",
              "    </tr>\n",
              "    <tr>\n",
              "      <th>4</th>\n",
              "      <td>2010-08-22</td>\n",
              "      <td>0.100000</td>\n",
              "      <td>1228.36</td>\n",
              "      <td>0.000000</td>\n",
              "      <td>0.119068</td>\n",
              "    </tr>\n",
              "    <tr>\n",
              "      <th>...</th>\n",
              "      <td>...</td>\n",
              "      <td>...</td>\n",
              "      <td>...</td>\n",
              "      <td>...</td>\n",
              "      <td>...</td>\n",
              "    </tr>\n",
              "    <tr>\n",
              "      <th>590</th>\n",
              "      <td>2021-11-14</td>\n",
              "      <td>65458.985714</td>\n",
              "      <td>1850.16</td>\n",
              "      <td>1.000000</td>\n",
              "      <td>0.766466</td>\n",
              "    </tr>\n",
              "    <tr>\n",
              "      <th>591</th>\n",
              "      <td>2021-11-21</td>\n",
              "      <td>59646.485714</td>\n",
              "      <td>1863.40</td>\n",
              "      <td>0.911204</td>\n",
              "      <td>0.780251</td>\n",
              "    </tr>\n",
              "    <tr>\n",
              "      <th>592</th>\n",
              "      <td>2021-11-28</td>\n",
              "      <td>56539.585714</td>\n",
              "      <td>1792.56</td>\n",
              "      <td>0.863740</td>\n",
              "      <td>0.706495</td>\n",
              "    </tr>\n",
              "    <tr>\n",
              "      <th>593</th>\n",
              "      <td>2021-12-05</td>\n",
              "      <td>54373.742857</td>\n",
              "      <td>1778.52</td>\n",
              "      <td>0.830653</td>\n",
              "      <td>0.691877</td>\n",
              "    </tr>\n",
              "    <tr>\n",
              "      <th>594</th>\n",
              "      <td>2021-12-12</td>\n",
              "      <td>49806.950000</td>\n",
              "      <td>1781.60</td>\n",
              "      <td>0.760888</td>\n",
              "      <td>0.695084</td>\n",
              "    </tr>\n",
              "  </tbody>\n",
              "</table>\n",
              "<p>595 rows × 5 columns</p>\n",
              "</div>\n",
              "      <button class=\"colab-df-convert\" onclick=\"convertToInteractive('df-abe8c44d-bf0b-4dfc-887a-95d499123d1c')\"\n",
              "              title=\"Convert this dataframe to an interactive table.\"\n",
              "              style=\"display:none;\">\n",
              "        \n",
              "  <svg xmlns=\"http://www.w3.org/2000/svg\" height=\"24px\"viewBox=\"0 0 24 24\"\n",
              "       width=\"24px\">\n",
              "    <path d=\"M0 0h24v24H0V0z\" fill=\"none\"/>\n",
              "    <path d=\"M18.56 5.44l.94 2.06.94-2.06 2.06-.94-2.06-.94-.94-2.06-.94 2.06-2.06.94zm-11 1L8.5 8.5l.94-2.06 2.06-.94-2.06-.94L8.5 2.5l-.94 2.06-2.06.94zm10 10l.94 2.06.94-2.06 2.06-.94-2.06-.94-.94-2.06-.94 2.06-2.06.94z\"/><path d=\"M17.41 7.96l-1.37-1.37c-.4-.4-.92-.59-1.43-.59-.52 0-1.04.2-1.43.59L10.3 9.45l-7.72 7.72c-.78.78-.78 2.05 0 2.83L4 21.41c.39.39.9.59 1.41.59.51 0 1.02-.2 1.41-.59l7.78-7.78 2.81-2.81c.8-.78.8-2.07 0-2.86zM5.41 20L4 18.59l7.72-7.72 1.47 1.35L5.41 20z\"/>\n",
              "  </svg>\n",
              "      </button>\n",
              "      \n",
              "  <style>\n",
              "    .colab-df-container {\n",
              "      display:flex;\n",
              "      flex-wrap:wrap;\n",
              "      gap: 12px;\n",
              "    }\n",
              "\n",
              "    .colab-df-convert {\n",
              "      background-color: #E8F0FE;\n",
              "      border: none;\n",
              "      border-radius: 50%;\n",
              "      cursor: pointer;\n",
              "      display: none;\n",
              "      fill: #1967D2;\n",
              "      height: 32px;\n",
              "      padding: 0 0 0 0;\n",
              "      width: 32px;\n",
              "    }\n",
              "\n",
              "    .colab-df-convert:hover {\n",
              "      background-color: #E2EBFA;\n",
              "      box-shadow: 0px 1px 2px rgba(60, 64, 67, 0.3), 0px 1px 3px 1px rgba(60, 64, 67, 0.15);\n",
              "      fill: #174EA6;\n",
              "    }\n",
              "\n",
              "    [theme=dark] .colab-df-convert {\n",
              "      background-color: #3B4455;\n",
              "      fill: #D2E3FC;\n",
              "    }\n",
              "\n",
              "    [theme=dark] .colab-df-convert:hover {\n",
              "      background-color: #434B5C;\n",
              "      box-shadow: 0px 1px 3px 1px rgba(0, 0, 0, 0.15);\n",
              "      filter: drop-shadow(0px 1px 2px rgba(0, 0, 0, 0.3));\n",
              "      fill: #FFFFFF;\n",
              "    }\n",
              "  </style>\n",
              "\n",
              "      <script>\n",
              "        const buttonEl =\n",
              "          document.querySelector('#df-abe8c44d-bf0b-4dfc-887a-95d499123d1c button.colab-df-convert');\n",
              "        buttonEl.style.display =\n",
              "          google.colab.kernel.accessAllowed ? 'block' : 'none';\n",
              "\n",
              "        async function convertToInteractive(key) {\n",
              "          const element = document.querySelector('#df-abe8c44d-bf0b-4dfc-887a-95d499123d1c');\n",
              "          const dataTable =\n",
              "            await google.colab.kernel.invokeFunction('convertToInteractive',\n",
              "                                                     [key], {});\n",
              "          if (!dataTable) return;\n",
              "\n",
              "          const docLinkHtml = 'Like what you see? Visit the ' +\n",
              "            '<a target=\"_blank\" href=https://colab.research.google.com/notebooks/data_table.ipynb>data table notebook</a>'\n",
              "            + ' to learn more about interactive tables.';\n",
              "          element.innerHTML = '';\n",
              "          dataTable['output_type'] = 'display_data';\n",
              "          await google.colab.output.renderOutput(dataTable, element);\n",
              "          const docLink = document.createElement('div');\n",
              "          docLink.innerHTML = docLinkHtml;\n",
              "          element.appendChild(docLink);\n",
              "        }\n",
              "      </script>\n",
              "    </div>\n",
              "  </div>\n",
              "  "
            ],
            "text/plain": [
              "           Date      CloseBTC  ...  CloseBTC_minmax_norm  CloseGold_minmax_norm\n",
              "0    2010-07-25      0.100000  ...              0.000000               0.078712\n",
              "1    2010-08-01      0.100000  ...              0.000000               0.058618\n",
              "2    2010-08-08      0.100000  ...              0.000000               0.081815\n",
              "3    2010-08-15      0.100000  ...              0.000000               0.094559\n",
              "4    2010-08-22      0.100000  ...              0.000000               0.119068\n",
              "..          ...           ...  ...                   ...                    ...\n",
              "590  2021-11-14  65458.985714  ...              1.000000               0.766466\n",
              "591  2021-11-21  59646.485714  ...              0.911204               0.780251\n",
              "592  2021-11-28  56539.585714  ...              0.863740               0.706495\n",
              "593  2021-12-05  54373.742857  ...              0.830653               0.691877\n",
              "594  2021-12-12  49806.950000  ...              0.760888               0.695084\n",
              "\n",
              "[595 rows x 5 columns]"
            ]
          },
          "metadata": {},
          "execution_count": 41
        }
      ]
    },
    {
      "cell_type": "code",
      "metadata": {
        "colab": {
          "base_uri": "https://localhost:8080/",
          "height": 208
        },
        "id": "aQVwMRTt3cPw",
        "outputId": "f647c0d7-a8f9-4562-8cdb-93a6cba1432f"
      },
      "source": [
        "#Create a new dataframe: assets_stack - that shows the weekly date (ensured its in correct format) and the value of each minmax so I can plot on a line chart.\n",
        "#Also, use the .str.contains() function to find the exact values I need \n",
        "assets_stack = assets.set_index('Date').stack().reset_index()\n",
        "assets_stack.columns = ['Date','Asset','Value']\n",
        "assets_stack['Date'] = pd.to_datetime(assets_stack['Date'])\n",
        "assets_stack = assets_stack[assets_stack['Asset'].str.contains('minmax_norm')]\n",
        "assets_stack.head()"
      ],
      "execution_count": null,
      "outputs": [
        {
          "output_type": "execute_result",
          "data": {
            "text/html": [
              "\n",
              "  <div id=\"df-5dde4576-c10d-40ba-a33b-528417670d09\">\n",
              "    <div class=\"colab-df-container\">\n",
              "      <div>\n",
              "<style scoped>\n",
              "    .dataframe tbody tr th:only-of-type {\n",
              "        vertical-align: middle;\n",
              "    }\n",
              "\n",
              "    .dataframe tbody tr th {\n",
              "        vertical-align: top;\n",
              "    }\n",
              "\n",
              "    .dataframe thead th {\n",
              "        text-align: right;\n",
              "    }\n",
              "</style>\n",
              "<table border=\"1\" class=\"dataframe\">\n",
              "  <thead>\n",
              "    <tr style=\"text-align: right;\">\n",
              "      <th></th>\n",
              "      <th>Date</th>\n",
              "      <th>Asset</th>\n",
              "      <th>Value</th>\n",
              "    </tr>\n",
              "  </thead>\n",
              "  <tbody>\n",
              "    <tr>\n",
              "      <th>3</th>\n",
              "      <td>2010-07-25</td>\n",
              "      <td>CloseBTC_minmax_norm</td>\n",
              "      <td>0.000000</td>\n",
              "    </tr>\n",
              "    <tr>\n",
              "      <th>4</th>\n",
              "      <td>2010-07-25</td>\n",
              "      <td>CloseGold_minmax_norm</td>\n",
              "      <td>0.078712</td>\n",
              "    </tr>\n",
              "    <tr>\n",
              "      <th>8</th>\n",
              "      <td>2010-08-01</td>\n",
              "      <td>CloseBTC_minmax_norm</td>\n",
              "      <td>0.000000</td>\n",
              "    </tr>\n",
              "    <tr>\n",
              "      <th>9</th>\n",
              "      <td>2010-08-01</td>\n",
              "      <td>CloseGold_minmax_norm</td>\n",
              "      <td>0.058618</td>\n",
              "    </tr>\n",
              "    <tr>\n",
              "      <th>13</th>\n",
              "      <td>2010-08-08</td>\n",
              "      <td>CloseBTC_minmax_norm</td>\n",
              "      <td>0.000000</td>\n",
              "    </tr>\n",
              "  </tbody>\n",
              "</table>\n",
              "</div>\n",
              "      <button class=\"colab-df-convert\" onclick=\"convertToInteractive('df-5dde4576-c10d-40ba-a33b-528417670d09')\"\n",
              "              title=\"Convert this dataframe to an interactive table.\"\n",
              "              style=\"display:none;\">\n",
              "        \n",
              "  <svg xmlns=\"http://www.w3.org/2000/svg\" height=\"24px\"viewBox=\"0 0 24 24\"\n",
              "       width=\"24px\">\n",
              "    <path d=\"M0 0h24v24H0V0z\" fill=\"none\"/>\n",
              "    <path d=\"M18.56 5.44l.94 2.06.94-2.06 2.06-.94-2.06-.94-.94-2.06-.94 2.06-2.06.94zm-11 1L8.5 8.5l.94-2.06 2.06-.94-2.06-.94L8.5 2.5l-.94 2.06-2.06.94zm10 10l.94 2.06.94-2.06 2.06-.94-2.06-.94-.94-2.06-.94 2.06-2.06.94z\"/><path d=\"M17.41 7.96l-1.37-1.37c-.4-.4-.92-.59-1.43-.59-.52 0-1.04.2-1.43.59L10.3 9.45l-7.72 7.72c-.78.78-.78 2.05 0 2.83L4 21.41c.39.39.9.59 1.41.59.51 0 1.02-.2 1.41-.59l7.78-7.78 2.81-2.81c.8-.78.8-2.07 0-2.86zM5.41 20L4 18.59l7.72-7.72 1.47 1.35L5.41 20z\"/>\n",
              "  </svg>\n",
              "      </button>\n",
              "      \n",
              "  <style>\n",
              "    .colab-df-container {\n",
              "      display:flex;\n",
              "      flex-wrap:wrap;\n",
              "      gap: 12px;\n",
              "    }\n",
              "\n",
              "    .colab-df-convert {\n",
              "      background-color: #E8F0FE;\n",
              "      border: none;\n",
              "      border-radius: 50%;\n",
              "      cursor: pointer;\n",
              "      display: none;\n",
              "      fill: #1967D2;\n",
              "      height: 32px;\n",
              "      padding: 0 0 0 0;\n",
              "      width: 32px;\n",
              "    }\n",
              "\n",
              "    .colab-df-convert:hover {\n",
              "      background-color: #E2EBFA;\n",
              "      box-shadow: 0px 1px 2px rgba(60, 64, 67, 0.3), 0px 1px 3px 1px rgba(60, 64, 67, 0.15);\n",
              "      fill: #174EA6;\n",
              "    }\n",
              "\n",
              "    [theme=dark] .colab-df-convert {\n",
              "      background-color: #3B4455;\n",
              "      fill: #D2E3FC;\n",
              "    }\n",
              "\n",
              "    [theme=dark] .colab-df-convert:hover {\n",
              "      background-color: #434B5C;\n",
              "      box-shadow: 0px 1px 3px 1px rgba(0, 0, 0, 0.15);\n",
              "      filter: drop-shadow(0px 1px 2px rgba(0, 0, 0, 0.3));\n",
              "      fill: #FFFFFF;\n",
              "    }\n",
              "  </style>\n",
              "\n",
              "      <script>\n",
              "        const buttonEl =\n",
              "          document.querySelector('#df-5dde4576-c10d-40ba-a33b-528417670d09 button.colab-df-convert');\n",
              "        buttonEl.style.display =\n",
              "          google.colab.kernel.accessAllowed ? 'block' : 'none';\n",
              "\n",
              "        async function convertToInteractive(key) {\n",
              "          const element = document.querySelector('#df-5dde4576-c10d-40ba-a33b-528417670d09');\n",
              "          const dataTable =\n",
              "            await google.colab.kernel.invokeFunction('convertToInteractive',\n",
              "                                                     [key], {});\n",
              "          if (!dataTable) return;\n",
              "\n",
              "          const docLinkHtml = 'Like what you see? Visit the ' +\n",
              "            '<a target=\"_blank\" href=https://colab.research.google.com/notebooks/data_table.ipynb>data table notebook</a>'\n",
              "            + ' to learn more about interactive tables.';\n",
              "          element.innerHTML = '';\n",
              "          dataTable['output_type'] = 'display_data';\n",
              "          await google.colab.output.renderOutput(dataTable, element);\n",
              "          const docLink = document.createElement('div');\n",
              "          docLink.innerHTML = docLinkHtml;\n",
              "          element.appendChild(docLink);\n",
              "        }\n",
              "      </script>\n",
              "    </div>\n",
              "  </div>\n",
              "  "
            ],
            "text/plain": [
              "         Date                  Asset     Value\n",
              "3  2010-07-25   CloseBTC_minmax_norm  0.000000\n",
              "4  2010-07-25  CloseGold_minmax_norm  0.078712\n",
              "8  2010-08-01   CloseBTC_minmax_norm  0.000000\n",
              "9  2010-08-01  CloseGold_minmax_norm  0.058618\n",
              "13 2010-08-08   CloseBTC_minmax_norm  0.000000"
            ]
          },
          "metadata": {},
          "execution_count": 42
        }
      ]
    },
    {
      "cell_type": "code",
      "metadata": {
        "colab": {
          "base_uri": "https://localhost:8080/",
          "height": 318
        },
        "id": "B7Y6XRyJ4MSu",
        "outputId": "4fdcd978-fa25-48d6-fc91-7b53eef08344"
      },
      "source": [
        "#Create a line chart using seaborn of the above data (assets_stack). Rename the legend labels to represent normalised close prices.\n",
        "sns.lineplot(x='Date', y='Value', hue='Asset', \n",
        "             data=assets_stack,legend=False);\n",
        "plt.title('Weekly Close Price: Min-Max Normalisation', fontsize=20, pad=10)\n",
        "plt.legend(labels=['BTC', 'Gold', 'SPY'],loc=2);\n",
        "sns.set(rc = {'figure.figsize':(15,8)})"
      ],
      "execution_count": null,
      "outputs": [
        {
          "output_type": "display_data",
          "data": {
            "image/png": "[encoded data removed]",
            "text/plain": [
              "<Figure size 432x288 with 1 Axes>"
            ]
          },
          "metadata": {}
        }
      ]
    },
    {
      "cell_type": "code",
      "metadata": {
        "colab": {
          "base_uri": "https://localhost:8080/"
        },
        "id": "3Xr3ACEmKLSh",
        "outputId": "74a7d68c-ce1f-495a-d813-d2282917a1f7"
      },
      "source": [
        "#Finding the right range of data to use. (1:4 when including SPY)\n",
        "assets.columns[2:4]"
      ],
      "execution_count": null,
      "outputs": [
        {
          "output_type": "execute_result",
          "data": {
            "text/plain": [
              "Index(['CloseBTC', 'CloseGold'], dtype='object')"
            ]
          },
          "metadata": {},
          "execution_count": 46
        }
      ]
    },
    {
      "cell_type": "code",
      "metadata": {
        "id": "CJ9vGHhX5klL"
      },
      "source": [
        "#Calculate the z-scores for the close price of bitcoin and gold. (1:4 when including SPY)\n",
        "for x in assets.columns[2:4]:\n",
        "  assets[x+'_z_norm']= (assets[x] - assets[x].mean())/assets[x].std()"
      ],
      "execution_count": null,
      "outputs": []
    },
    {
      "cell_type": "code",
      "metadata": {
        "colab": {
          "base_uri": "https://localhost:8080/",
          "height": 208
        },
        "id": "nTX18Biq8JkJ",
        "outputId": "232e69ac-4df4-4339-c079-49f205bddbdc"
      },
      "source": [
        "#Append the z-scores to the assets data frame and also create a new stack so I can plot these scores on a unique graph \n",
        "assets_stack = assets.set_index('Date').stack().reset_index()\n",
        "assets_stack.columns = ['Date','Asset','Value']\n",
        "assets_stack['Date'] = pd.to_datetime(assets_stack['Date'])\n",
        "assets_stack = assets_stack[assets_stack['Asset'].str.contains('z_norm')]\n",
        "assets_stack.head()"
      ],
      "execution_count": null,
      "outputs": [
        {
          "output_type": "execute_result",
          "data": {
            "text/html": [
              "\n",
              "  <div id=\"df-12b79dec-ab22-46fa-ad86-55b11878e091\">\n",
              "    <div class=\"colab-df-container\">\n",
              "      <div>\n",
              "<style scoped>\n",
              "    .dataframe tbody tr th:only-of-type {\n",
              "        vertical-align: middle;\n",
              "    }\n",
              "\n",
              "    .dataframe tbody tr th {\n",
              "        vertical-align: top;\n",
              "    }\n",
              "\n",
              "    .dataframe thead th {\n",
              "        text-align: right;\n",
              "    }\n",
              "</style>\n",
              "<table border=\"1\" class=\"dataframe\">\n",
              "  <thead>\n",
              "    <tr style=\"text-align: right;\">\n",
              "      <th></th>\n",
              "      <th>Date</th>\n",
              "      <th>Asset</th>\n",
              "      <th>Value</th>\n",
              "    </tr>\n",
              "  </thead>\n",
              "  <tbody>\n",
              "    <tr>\n",
              "      <th>5</th>\n",
              "      <td>2010-07-25</td>\n",
              "      <td>CloseBTC_z_norm</td>\n",
              "      <td>-0.505649</td>\n",
              "    </tr>\n",
              "    <tr>\n",
              "      <th>6</th>\n",
              "      <td>2010-07-25</td>\n",
              "      <td>CloseGold_z_norm</td>\n",
              "      <td>-1.318741</td>\n",
              "    </tr>\n",
              "    <tr>\n",
              "      <th>12</th>\n",
              "      <td>2010-08-01</td>\n",
              "      <td>CloseBTC_z_norm</td>\n",
              "      <td>-0.505649</td>\n",
              "    </tr>\n",
              "    <tr>\n",
              "      <th>13</th>\n",
              "      <td>2010-08-01</td>\n",
              "      <td>CloseGold_z_norm</td>\n",
              "      <td>-1.409336</td>\n",
              "    </tr>\n",
              "    <tr>\n",
              "      <th>19</th>\n",
              "      <td>2010-08-08</td>\n",
              "      <td>CloseBTC_z_norm</td>\n",
              "      <td>-0.505649</td>\n",
              "    </tr>\n",
              "  </tbody>\n",
              "</table>\n",
              "</div>\n",
              "      <button class=\"colab-df-convert\" onclick=\"convertToInteractive('df-12b79dec-ab22-46fa-ad86-55b11878e091')\"\n",
              "              title=\"Convert this dataframe to an interactive table.\"\n",
              "              style=\"display:none;\">\n",
              "        \n",
              "  <svg xmlns=\"http://www.w3.org/2000/svg\" height=\"24px\"viewBox=\"0 0 24 24\"\n",
              "       width=\"24px\">\n",
              "    <path d=\"M0 0h24v24H0V0z\" fill=\"none\"/>\n",
              "    <path d=\"M18.56 5.44l.94 2.06.94-2.06 2.06-.94-2.06-.94-.94-2.06-.94 2.06-2.06.94zm-11 1L8.5 8.5l.94-2.06 2.06-.94-2.06-.94L8.5 2.5l-.94 2.06-2.06.94zm10 10l.94 2.06.94-2.06 2.06-.94-2.06-.94-.94-2.06-.94 2.06-2.06.94z\"/><path d=\"M17.41 7.96l-1.37-1.37c-.4-.4-.92-.59-1.43-.59-.52 0-1.04.2-1.43.59L10.3 9.45l-7.72 7.72c-.78.78-.78 2.05 0 2.83L4 21.41c.39.39.9.59 1.41.59.51 0 1.02-.2 1.41-.59l7.78-7.78 2.81-2.81c.8-.78.8-2.07 0-2.86zM5.41 20L4 18.59l7.72-7.72 1.47 1.35L5.41 20z\"/>\n",
              "  </svg>\n",
              "      </button>\n",
              "      \n",
              "  <style>\n",
              "    .colab-df-container {\n",
              "      display:flex;\n",
              "      flex-wrap:wrap;\n",
              "      gap: 12px;\n",
              "    }\n",
              "\n",
              "    .colab-df-convert {\n",
              "      background-color: #E8F0FE;\n",
              "      border: none;\n",
              "      border-radius: 50%;\n",
              "      cursor: pointer;\n",
              "      display: none;\n",
              "      fill: #1967D2;\n",
              "      height: 32px;\n",
              "      padding: 0 0 0 0;\n",
              "      width: 32px;\n",
              "    }\n",
              "\n",
              "    .colab-df-convert:hover {\n",
              "      background-color: #E2EBFA;\n",
              "      box-shadow: 0px 1px 2px rgba(60, 64, 67, 0.3), 0px 1px 3px 1px rgba(60, 64, 67, 0.15);\n",
              "      fill: #174EA6;\n",
              "    }\n",
              "\n",
              "    [theme=dark] .colab-df-convert {\n",
              "      background-color: #3B4455;\n",
              "      fill: #D2E3FC;\n",
              "    }\n",
              "\n",
              "    [theme=dark] .colab-df-convert:hover {\n",
              "      background-color: #434B5C;\n",
              "      box-shadow: 0px 1px 3px 1px rgba(0, 0, 0, 0.15);\n",
              "      filter: drop-shadow(0px 1px 2px rgba(0, 0, 0, 0.3));\n",
              "      fill: #FFFFFF;\n",
              "    }\n",
              "  </style>\n",
              "\n",
              "      <script>\n",
              "        const buttonEl =\n",
              "          document.querySelector('#df-12b79dec-ab22-46fa-ad86-55b11878e091 button.colab-df-convert');\n",
              "        buttonEl.style.display =\n",
              "          google.colab.kernel.accessAllowed ? 'block' : 'none';\n",
              "\n",
              "        async function convertToInteractive(key) {\n",
              "          const element = document.querySelector('#df-12b79dec-ab22-46fa-ad86-55b11878e091');\n",
              "          const dataTable =\n",
              "            await google.colab.kernel.invokeFunction('convertToInteractive',\n",
              "                                                     [key], {});\n",
              "          if (!dataTable) return;\n",
              "\n",
              "          const docLinkHtml = 'Like what you see? Visit the ' +\n",
              "            '<a target=\"_blank\" href=https://colab.research.google.com/notebooks/data_table.ipynb>data table notebook</a>'\n",
              "            + ' to learn more about interactive tables.';\n",
              "          element.innerHTML = '';\n",
              "          dataTable['output_type'] = 'display_data';\n",
              "          await google.colab.output.renderOutput(dataTable, element);\n",
              "          const docLink = document.createElement('div');\n",
              "          docLink.innerHTML = docLinkHtml;\n",
              "          element.appendChild(docLink);\n",
              "        }\n",
              "      </script>\n",
              "    </div>\n",
              "  </div>\n",
              "  "
            ],
            "text/plain": [
              "         Date             Asset     Value\n",
              "5  2010-07-25   CloseBTC_z_norm -0.505649\n",
              "6  2010-07-25  CloseGold_z_norm -1.318741\n",
              "12 2010-08-01   CloseBTC_z_norm -0.505649\n",
              "13 2010-08-01  CloseGold_z_norm -1.409336\n",
              "19 2010-08-08   CloseBTC_z_norm -0.505649"
            ]
          },
          "metadata": {},
          "execution_count": 49
        }
      ]
    },
    {
      "cell_type": "code",
      "metadata": {
        "colab": {
          "base_uri": "https://localhost:8080/",
          "height": 424
        },
        "id": "YPfeVoO2I_0R",
        "outputId": "75069820-f59f-4439-b238-7ccce27d083f"
      },
      "source": [
        "assets"
      ],
      "execution_count": null,
      "outputs": [
        {
          "output_type": "execute_result",
          "data": {
            "text/html": [
              "\n",
              "  <div id=\"df-f4165657-3ccd-4e16-acc0-8aefc1f4de3d\">\n",
              "    <div class=\"colab-df-container\">\n",
              "      <div>\n",
              "<style scoped>\n",
              "    .dataframe tbody tr th:only-of-type {\n",
              "        vertical-align: middle;\n",
              "    }\n",
              "\n",
              "    .dataframe tbody tr th {\n",
              "        vertical-align: top;\n",
              "    }\n",
              "\n",
              "    .dataframe thead th {\n",
              "        text-align: right;\n",
              "    }\n",
              "</style>\n",
              "<table border=\"1\" class=\"dataframe\">\n",
              "  <thead>\n",
              "    <tr style=\"text-align: right;\">\n",
              "      <th></th>\n",
              "      <th>index</th>\n",
              "      <th>Date</th>\n",
              "      <th>CloseBTC</th>\n",
              "      <th>CloseGold</th>\n",
              "      <th>CloseBTC_minmax_norm</th>\n",
              "      <th>CloseGold_minmax_norm</th>\n",
              "      <th>CloseBTC_z_norm</th>\n",
              "      <th>CloseGold_z_norm</th>\n",
              "    </tr>\n",
              "  </thead>\n",
              "  <tbody>\n",
              "    <tr>\n",
              "      <th>0</th>\n",
              "      <td>0</td>\n",
              "      <td>2010-07-25</td>\n",
              "      <td>0.100000</td>\n",
              "      <td>1189.60</td>\n",
              "      <td>0.000000</td>\n",
              "      <td>0.078712</td>\n",
              "      <td>-0.505649</td>\n",
              "      <td>-1.318741</td>\n",
              "    </tr>\n",
              "    <tr>\n",
              "      <th>1</th>\n",
              "      <td>1</td>\n",
              "      <td>2010-08-01</td>\n",
              "      <td>0.100000</td>\n",
              "      <td>1170.30</td>\n",
              "      <td>0.000000</td>\n",
              "      <td>0.058618</td>\n",
              "      <td>-0.505649</td>\n",
              "      <td>-1.409336</td>\n",
              "    </tr>\n",
              "    <tr>\n",
              "      <th>2</th>\n",
              "      <td>2</td>\n",
              "      <td>2010-08-08</td>\n",
              "      <td>0.100000</td>\n",
              "      <td>1192.58</td>\n",
              "      <td>0.000000</td>\n",
              "      <td>0.081815</td>\n",
              "      <td>-0.505649</td>\n",
              "      <td>-1.304753</td>\n",
              "    </tr>\n",
              "    <tr>\n",
              "      <th>3</th>\n",
              "      <td>3</td>\n",
              "      <td>2010-08-15</td>\n",
              "      <td>0.100000</td>\n",
              "      <td>1204.82</td>\n",
              "      <td>0.000000</td>\n",
              "      <td>0.094559</td>\n",
              "      <td>-0.505649</td>\n",
              "      <td>-1.247298</td>\n",
              "    </tr>\n",
              "    <tr>\n",
              "      <th>4</th>\n",
              "      <td>4</td>\n",
              "      <td>2010-08-22</td>\n",
              "      <td>0.100000</td>\n",
              "      <td>1228.36</td>\n",
              "      <td>0.000000</td>\n",
              "      <td>0.119068</td>\n",
              "      <td>-0.505649</td>\n",
              "      <td>-1.136800</td>\n",
              "    </tr>\n",
              "    <tr>\n",
              "      <th>...</th>\n",
              "      <td>...</td>\n",
              "      <td>...</td>\n",
              "      <td>...</td>\n",
              "      <td>...</td>\n",
              "      <td>...</td>\n",
              "      <td>...</td>\n",
              "      <td>...</td>\n",
              "      <td>...</td>\n",
              "    </tr>\n",
              "    <tr>\n",
              "      <th>590</th>\n",
              "      <td>590</td>\n",
              "      <td>2021-11-14</td>\n",
              "      <td>65458.985714</td>\n",
              "      <td>1850.16</td>\n",
              "      <td>1.000000</td>\n",
              "      <td>0.766466</td>\n",
              "      <td>4.429500</td>\n",
              "      <td>1.781960</td>\n",
              "    </tr>\n",
              "    <tr>\n",
              "      <th>591</th>\n",
              "      <td>591</td>\n",
              "      <td>2021-11-21</td>\n",
              "      <td>59646.485714</td>\n",
              "      <td>1863.40</td>\n",
              "      <td>0.911204</td>\n",
              "      <td>0.780251</td>\n",
              "      <td>3.991278</td>\n",
              "      <td>1.844109</td>\n",
              "    </tr>\n",
              "    <tr>\n",
              "      <th>592</th>\n",
              "      <td>592</td>\n",
              "      <td>2021-11-28</td>\n",
              "      <td>56539.585714</td>\n",
              "      <td>1792.56</td>\n",
              "      <td>0.863740</td>\n",
              "      <td>0.706495</td>\n",
              "      <td>3.757039</td>\n",
              "      <td>1.511583</td>\n",
              "    </tr>\n",
              "    <tr>\n",
              "      <th>593</th>\n",
              "      <td>593</td>\n",
              "      <td>2021-12-05</td>\n",
              "      <td>54373.742857</td>\n",
              "      <td>1778.52</td>\n",
              "      <td>0.830653</td>\n",
              "      <td>0.691877</td>\n",
              "      <td>3.593749</td>\n",
              "      <td>1.445678</td>\n",
              "    </tr>\n",
              "    <tr>\n",
              "      <th>594</th>\n",
              "      <td>594</td>\n",
              "      <td>2021-12-12</td>\n",
              "      <td>49806.950000</td>\n",
              "      <td>1781.60</td>\n",
              "      <td>0.760888</td>\n",
              "      <td>0.695084</td>\n",
              "      <td>3.249444</td>\n",
              "      <td>1.460136</td>\n",
              "    </tr>\n",
              "  </tbody>\n",
              "</table>\n",
              "<p>595 rows × 8 columns</p>\n",
              "</div>\n",
              "      <button class=\"colab-df-convert\" onclick=\"convertToInteractive('df-f4165657-3ccd-4e16-acc0-8aefc1f4de3d')\"\n",
              "              title=\"Convert this dataframe to an interactive table.\"\n",
              "              style=\"display:none;\">\n",
              "        \n",
              "  <svg xmlns=\"http://www.w3.org/2000/svg\" height=\"24px\"viewBox=\"0 0 24 24\"\n",
              "       width=\"24px\">\n",
              "    <path d=\"M0 0h24v24H0V0z\" fill=\"none\"/>\n",
              "    <path d=\"M18.56 5.44l.94 2.06.94-2.06 2.06-.94-2.06-.94-.94-2.06-.94 2.06-2.06.94zm-11 1L8.5 8.5l.94-2.06 2.06-.94-2.06-.94L8.5 2.5l-.94 2.06-2.06.94zm10 10l.94 2.06.94-2.06 2.06-.94-2.06-.94-.94-2.06-.94 2.06-2.06.94z\"/><path d=\"M17.41 7.96l-1.37-1.37c-.4-.4-.92-.59-1.43-.59-.52 0-1.04.2-1.43.59L10.3 9.45l-7.72 7.72c-.78.78-.78 2.05 0 2.83L4 21.41c.39.39.9.59 1.41.59.51 0 1.02-.2 1.41-.59l7.78-7.78 2.81-2.81c.8-.78.8-2.07 0-2.86zM5.41 20L4 18.59l7.72-7.72 1.47 1.35L5.41 20z\"/>\n",
              "  </svg>\n",
              "      </button>\n",
              "      \n",
              "  <style>\n",
              "    .colab-df-container {\n",
              "      display:flex;\n",
              "      flex-wrap:wrap;\n",
              "      gap: 12px;\n",
              "    }\n",
              "\n",
              "    .colab-df-convert {\n",
              "      background-color: #E8F0FE;\n",
              "      border: none;\n",
              "      border-radius: 50%;\n",
              "      cursor: pointer;\n",
              "      display: none;\n",
              "      fill: #1967D2;\n",
              "      height: 32px;\n",
              "      padding: 0 0 0 0;\n",
              "      width: 32px;\n",
              "    }\n",
              "\n",
              "    .colab-df-convert:hover {\n",
              "      background-color: #E2EBFA;\n",
              "      box-shadow: 0px 1px 2px rgba(60, 64, 67, 0.3), 0px 1px 3px 1px rgba(60, 64, 67, 0.15);\n",
              "      fill: #174EA6;\n",
              "    }\n",
              "\n",
              "    [theme=dark] .colab-df-convert {\n",
              "      background-color: #3B4455;\n",
              "      fill: #D2E3FC;\n",
              "    }\n",
              "\n",
              "    [theme=dark] .colab-df-convert:hover {\n",
              "      background-color: #434B5C;\n",
              "      box-shadow: 0px 1px 3px 1px rgba(0, 0, 0, 0.15);\n",
              "      filter: drop-shadow(0px 1px 2px rgba(0, 0, 0, 0.3));\n",
              "      fill: #FFFFFF;\n",
              "    }\n",
              "  </style>\n",
              "\n",
              "      <script>\n",
              "        const buttonEl =\n",
              "          document.querySelector('#df-f4165657-3ccd-4e16-acc0-8aefc1f4de3d button.colab-df-convert');\n",
              "        buttonEl.style.display =\n",
              "          google.colab.kernel.accessAllowed ? 'block' : 'none';\n",
              "\n",
              "        async function convertToInteractive(key) {\n",
              "          const element = document.querySelector('#df-f4165657-3ccd-4e16-acc0-8aefc1f4de3d');\n",
              "          const dataTable =\n",
              "            await google.colab.kernel.invokeFunction('convertToInteractive',\n",
              "                                                     [key], {});\n",
              "          if (!dataTable) return;\n",
              "\n",
              "          const docLinkHtml = 'Like what you see? Visit the ' +\n",
              "            '<a target=\"_blank\" href=https://colab.research.google.com/notebooks/data_table.ipynb>data table notebook</a>'\n",
              "            + ' to learn more about interactive tables.';\n",
              "          element.innerHTML = '';\n",
              "          dataTable['output_type'] = 'display_data';\n",
              "          await google.colab.output.renderOutput(dataTable, element);\n",
              "          const docLink = document.createElement('div');\n",
              "          docLink.innerHTML = docLinkHtml;\n",
              "          element.appendChild(docLink);\n",
              "        }\n",
              "      </script>\n",
              "    </div>\n",
              "  </div>\n",
              "  "
            ],
            "text/plain": [
              "     index        Date  ...  CloseBTC_z_norm  CloseGold_z_norm\n",
              "0        0  2010-07-25  ...        -0.505649         -1.318741\n",
              "1        1  2010-08-01  ...        -0.505649         -1.409336\n",
              "2        2  2010-08-08  ...        -0.505649         -1.304753\n",
              "3        3  2010-08-15  ...        -0.505649         -1.247298\n",
              "4        4  2010-08-22  ...        -0.505649         -1.136800\n",
              "..     ...         ...  ...              ...               ...\n",
              "590    590  2021-11-14  ...         4.429500          1.781960\n",
              "591    591  2021-11-21  ...         3.991278          1.844109\n",
              "592    592  2021-11-28  ...         3.757039          1.511583\n",
              "593    593  2021-12-05  ...         3.593749          1.445678\n",
              "594    594  2021-12-12  ...         3.249444          1.460136\n",
              "\n",
              "[595 rows x 8 columns]"
            ]
          },
          "metadata": {},
          "execution_count": 50
        }
      ]
    },
    {
      "cell_type": "code",
      "metadata": {
        "colab": {
          "base_uri": "https://localhost:8080/",
          "height": 540
        },
        "id": "mGac1xjpLyh5",
        "outputId": "30ee0359-2873-40bd-e3b9-a5b7a19222e9"
      },
      "source": [
        "#Create a line chart for the Z-scores of BTC and Gold using the above assets_stack\n",
        "sns.lineplot(x='Date', y='Value', hue='Asset', \n",
        "             data=assets_stack,legend=False);\n",
        "plt.title('Weekly Close Price: Z-Score Standardisation', pad=10, fontsize=20)\n",
        "#plt.suptitle('Z-Scores handle outliers more robustly', fontsize=15)\n",
        "plt.legend(labels=['BTC', 'Gold', 'SPY'], loc=2)\n",
        "sns.set(rc = {'figure.figsize':(15,8)})"
      ],
      "execution_count": null,
      "outputs": [
        {
          "output_type": "display_data",
          "data": {
            "image/png": "[encoded data removed]",
            "text/plain": [
              "<Figure size 1080x576 with 1 Axes>"
            ]
          },
          "metadata": {}
        }
      ]
    },
    {
      "cell_type": "code",
      "metadata": {
        "colab": {
          "base_uri": "https://localhost:8080/",
          "height": 502
        },
        "id": "OMebYLmVLyvi",
        "outputId": "e57607d9-c2a2-4942-fb11-5109b5fc7b5e"
      },
      "source": [
        "#Create a histogram for the z-scores of btc and gold\n",
        "for x in assets.columns[-2:]:\n",
        "    plt.hist(assets[x], alpha=0.5,bins=20)\n",
        "    plt.legend(labels=['BTC Z-Score', 'Gold Z-Score'])"
      ],
      "execution_count": null,
      "outputs": [
        {
          "output_type": "display_data",
          "data": {
            "image/png": "[encoded data removed]",
            "text/plain": [
              "<Figure size 1080x576 with 1 Axes>"
            ]
          },
          "metadata": {}
        }
      ]
    },
    {
      "cell_type": "code",
      "source": [
        "#Change of plan, decided to export the assets dataframe to a csv so i can manipulate the min-max and z-score graph in Vega as this makes my website look more consistent rather than having 2 .png files...\n",
        "assets.to_csv('assets_scores.csv')"
      ],
      "metadata": {
        "id": "tIbbIDVPpdxm"
      },
      "execution_count": null,
      "outputs": []
    },
    {
      "cell_type": "markdown",
      "metadata": {
        "id": "jxXgr8_kTLlK"
      },
      "source": [
        "<b> Playing around with different seaborn plots from this point, hence no comments. Further useful annotated analysis below this section i.e. regressions. </b>\n"
      ]
    },
    {
      "cell_type": "code",
      "metadata": {
        "colab": {
          "base_uri": "https://localhost:8080/",
          "height": 297
        },
        "id": "dgK_64Sndim1",
        "outputId": "242b4152-432b-4624-d0a5-979e67e6baa0"
      },
      "source": [
        "for x in assets.columns[-2:]:\n",
        "    sns.kdeplot(assets[x])"
      ],
      "execution_count": null,
      "outputs": [
        {
          "output_type": "display_data",
          "data": {
            "image/png": "[encoded data removed]",
            "text/plain": [
              "<Figure size 432x288 with 1 Axes>"
            ]
          },
          "metadata": {}
        }
      ]
    },
    {
      "cell_type": "code",
      "metadata": {
        "colab": {
          "base_uri": "https://localhost:8080/",
          "height": 436
        },
        "id": "WPLQzrAQdm8i",
        "outputId": "fbd0b285-9bef-4297-deea-ace0c72c7143"
      },
      "source": [
        "sns.jointplot(x=\"PriceBTC_z_norm\", y=\"PriceGold_z_norm\", data=assets, kind='kde');"
      ],
      "execution_count": null,
      "outputs": [
        {
          "output_type": "display_data",
          "data": {
            "image/png": "[encoded data removed]",
            "text/plain": [
              "<Figure size 432x432 with 3 Axes>"
            ]
          },
          "metadata": {}
        }
      ]
    },
    {
      "cell_type": "code",
      "source": [
        "#Trellis pairplot \n",
        "sns.pairplot(assets[assets.columns[1:5]], height=2.5);"
      ],
      "metadata": {
        "id": "lHeXr_b9gJU1",
        "colab": {
          "base_uri": "https://localhost:8080/",
          "height": 548
        },
        "outputId": "7c482162-cc82-4c9c-acbd-1cb786cf019f"
      },
      "execution_count": null,
      "outputs": [
        {
          "output_type": "display_data",
          "data": {
            "image/png": "[encoded data removed]",
            "text/plain": [
              "<Figure size 540x540 with 12 Axes>"
            ]
          },
          "metadata": {}
        }
      ]
    },
    {
      "cell_type": "markdown",
      "source": [
        "<b> Regression of BTC on Gold using Seaborn <b>"
      ],
      "metadata": {
        "id": "XwgmBT5NgBZL"
      }
    },
    {
      "cell_type": "code",
      "metadata": {
        "id": "N61PA5jLewii",
        "colab": {
          "base_uri": "https://localhost:8080/",
          "height": 538
        },
        "outputId": "b3d1fb45-d2a2-4f54-dbe0-9e31da9aeb9d"
      },
      "source": [
        "#Regression using assets data\n",
        "sns.regplot(x='CloseBTC',y='CloseGold',data=assets)"
      ],
      "execution_count": null,
      "outputs": [
        {
          "output_type": "execute_result",
          "data": {
            "text/plain": [
              "<matplotlib.axes._subplots.AxesSubplot at 0x7fd65aa30f10>"
            ]
          },
          "metadata": {},
          "execution_count": 54
        },
        {
          "output_type": "display_data",
          "data": {
            "image/png": "[encoded data removed]",
            "text/plain": [
              "<Figure size 1080x576 with 1 Axes>"
            ]
          },
          "metadata": {}
        }
      ]
    },
    {
      "cell_type": "markdown",
      "source": [
        "<b> Regression of BTC on Gold using weekly data. Also, calculating R^2 and equation of the regression line. Useful to see whether R^2 here matches Vega regression - it should since I'm using the same dataset annnd it does :D </b>"
      ],
      "metadata": {
        "id": "Hu4vfCZbWlpC"
      }
    },
    {
      "cell_type": "code",
      "source": [
        "#Import necessary libraries for regressions and regression statistics\n",
        "from scipy.stats import linregress\n",
        "from sklearn.linear_model import LinearRegression\n",
        "from sklearn.preprocessing import PolynomialFeatures\n",
        "from sklearn.pipeline import make_pipeline\n"
      ],
      "metadata": {
        "id": "LBhLB8fAWpQ7"
      },
      "execution_count": null,
      "outputs": []
    },
    {
      "cell_type": "code",
      "source": [
        "#Calculate various statistics that will be useful in the regression of BTC on Gold\n",
        "slope, intercept, rvalue, pvalue, stderr = linregress(x=assets.dropna()['CloseBTC'], y=assets.dropna()['CloseGold'])"
      ],
      "metadata": {
        "id": "FmUrmGpLW5mc"
      },
      "execution_count": null,
      "outputs": []
    },
    {
      "cell_type": "code",
      "source": [
        "#Denoting the x and y axis as close price for BTC/Gold from the assets dataframe\n",
        "x = assets['CloseBTC']\n",
        "y = assets['CloseGold']"
      ],
      "metadata": {
        "id": "jBfbOc5NzgZs"
      },
      "execution_count": null,
      "outputs": []
    },
    {
      "cell_type": "code",
      "source": [
        "#Creating the linear regression of BTC on Gold, have to make end point $65,000 since this is highest value BTC reached\n",
        "model = LinearRegression(fit_intercept=True)\n",
        "\n",
        "model.fit(x[:, np.newaxis], y)\n",
        "\n",
        "xfit = np.linspace(0, 65000)\n",
        "yfit = model.predict(xfit[:, np.newaxis])\n",
        "\n",
        "plt.scatter(x, y)\n",
        "plt.plot(xfit, yfit);"
      ],
      "metadata": {
        "colab": {
          "base_uri": "https://localhost:8080/",
          "height": 333
        },
        "id": "VdP7awhKzMNj",
        "outputId": "4ef65b04-b72c-4927-c6a7-354f57599348"
      },
      "execution_count": null,
      "outputs": [
        {
          "output_type": "stream",
          "name": "stderr",
          "text": [
            "/usr/local/lib/python3.7/dist-packages/ipykernel_launcher.py:4: FutureWarning: Support for multi-dimensional indexing (e.g. `obj[:, None]`) is deprecated and will be removed in a future version.  Convert to a numpy array before indexing instead.\n",
            "  after removing the cwd from sys.path.\n"
          ]
        },
        {
          "output_type": "display_data",
          "data": {
            "image/png": "[encoded data removed]",
            "text/plain": [
              "<Figure size 432x288 with 1 Axes>"
            ]
          },
          "metadata": {}
        }
      ]
    },
    {
      "cell_type": "code",
      "source": [
        "#Display linear equation and the R^2 value\n",
        "print('y = ',np.round(slope,2),' * x + ',np.round(intercept,2))\n",
        "print('R² = ',np.round(rvalue**2,2))"
      ],
      "metadata": {
        "colab": {
          "base_uri": "https://localhost:8080/"
        },
        "id": "VmydIvtPW9uC",
        "outputId": "84247b88-de43-4a05-8f59-a7326290cdfd"
      },
      "execution_count": null,
      "outputs": [
        {
          "output_type": "stream",
          "name": "stdout",
          "text": [
            "y =  0.01  * x +  1412.84\n",
            "R² =  0.29\n"
          ]
        }
      ]
    },
    {
      "cell_type": "code",
      "source": [
        "#Print model slope and model intercept values\n",
        "print(\"Model slope:\", model.coef_[0])\n",
        "print(\"Model intercept:\", model.intercept_)"
      ],
      "metadata": {
        "colab": {
          "base_uri": "https://localhost:8080/"
        },
        "id": "-5pfLxcSX0fI",
        "outputId": "5d6919dd-dcf1-441c-d34c-fc4c5f2fd7d6"
      },
      "execution_count": null,
      "outputs": [
        {
          "output_type": "stream",
          "name": "stdout",
          "text": [
            "Model slope: 0.00860319016223291\n",
            "Model intercept: 1412.8378847601407\n"
          ]
        }
      ]
    },
    {
      "cell_type": "code",
      "source": [
        "#Creating polynomial regression \n",
        "#Denote x-axis as BTC and y-axis as Gold\n",
        "x = assets.dropna()['CloseBTC']\n",
        "y = assets.dropna()['CloseGold']\n",
        "\n",
        "#Create the polynomial model calculating the linear regression with a set number of turning points, 1 - Linear Regression. \n",
        "poly_model = make_pipeline(PolynomialFeatures(5),\n",
        "                           LinearRegression())\n",
        "poly_model.fit(x[:, np.newaxis], y)\n",
        "xfit = np.linspace(min(x), max(x), 1000)\n",
        "yfit = poly_model.predict(xfit[:, np.newaxis])\n",
        "\n",
        "#Plot the scatter plot\n",
        "plt.scatter(x, y)\n",
        "plt.plot(xfit, yfit,color='crimson');\n",
        "plt.xlabel('CloseBTC')\n",
        "plt.ylabel('CloseGold')"
      ],
      "metadata": {
        "colab": {
          "base_uri": "https://localhost:8080/",
          "height": 369
        },
        "id": "pJTffBSsWufV",
        "outputId": "8c05d684-2693-4910-8966-7002205a8778"
      },
      "execution_count": null,
      "outputs": [
        {
          "output_type": "stream",
          "name": "stderr",
          "text": [
            "/usr/local/lib/python3.7/dist-packages/ipykernel_launcher.py:9: FutureWarning: Support for multi-dimensional indexing (e.g. `obj[:, None]`) is deprecated and will be removed in a future version.  Convert to a numpy array before indexing instead.\n",
            "  if __name__ == '__main__':\n"
          ]
        },
        {
          "output_type": "execute_result",
          "data": {
            "text/plain": [
              "Text(0, 0.5, 'CloseGold')"
            ]
          },
          "metadata": {},
          "execution_count": 110
        },
        {
          "output_type": "display_data",
          "data": {
            "image/png": "[encoded data removed]",
            "text/plain": [
              "<Figure size 432x288 with 1 Axes>"
            ]
          },
          "metadata": {}
        }
      ]
    },
    {
      "cell_type": "markdown",
      "source": [
        "<b> Now, for some extra Gaussian fun ✌ </b>"
      ],
      "metadata": {
        "id": "ekiRICFOYp5R"
      }
    },
    {
      "cell_type": "code",
      "source": [
        "#Import library for Gaussian/polynomial basis functions\n",
        "from sklearn.base import BaseEstimator, TransformerMixin\n",
        "\n",
        "#Creating a Gaussian basis function\n",
        "class GaussianFeatures(BaseEstimator, TransformerMixin):\n",
        "    \"\"\"Uniformly spaced Gaussian features for one-dimensional input\"\"\"\n",
        "    \n",
        "    def __init__(self, N, width_factor=2.0):\n",
        "        self.N = N\n",
        "        self.width_factor = width_factor\n",
        "    \n",
        "    @staticmethod\n",
        "    def _gauss_basis(x, y, width, axis=None):\n",
        "        arg = (x - y) / width\n",
        "        return np.exp(-0.5 * np.sum(arg ** 2, axis))\n",
        "        \n",
        "    def fit(self, X, y=None):\n",
        "        # create N centers spread along the data range\n",
        "        self.centers_ = np.linspace(X.min(), X.max(), self.N)\n",
        "        self.width_ = self.width_factor * (self.centers_[1] - self.centers_[0])\n",
        "        return self\n",
        "        \n",
        "    def transform(self, X):\n",
        "        return self._gauss_basis(X[:, :, np.newaxis], self.centers_,\n",
        "                                 self.width_, axis=1)\n",
        "    \n",
        "gauss_model = make_pipeline(GaussianFeatures(20),\n",
        "                            LinearRegression())\n",
        "gauss_model.fit(x[:, np.newaxis], y)\n",
        "yfit = gauss_model.predict(xfit[:, np.newaxis])\n",
        "\n",
        "plt.scatter(x, y)\n",
        "plt.plot(xfit, yfit,color='crimson');\n",
        "plt.xlabel('BTC')\n",
        "plt.ylabel('ETH')"
      ],
      "metadata": {
        "id": "lVHl3woEY1Lz"
      },
      "execution_count": null,
      "outputs": []
    },
    {
      "cell_type": "code",
      "source": [
        "#Gaussian basis functions - choosing too many functions can lead to over-fitting...\n",
        "model = make_pipeline(GaussianFeatures(30),\n",
        "                      LinearRegression())\n",
        "model.fit(x[:, np.newaxis], y)\n",
        "yfit = model.predict(xfit[:, np.newaxis])\n",
        "\n",
        "plt.scatter(x, y)\n",
        "plt.plot(xfit, yfit,color='crimson');\n",
        "plt.xlabel('BTC')\n",
        "plt.ylabel('ETH')"
      ],
      "metadata": {
        "id": "DvsXJFylY6Ap"
      },
      "execution_count": null,
      "outputs": []
    },
    {
      "cell_type": "code",
      "source": [
        "#Coefficients of the Gaussian bases plotted with respect to their locations - displays extremity \n",
        "def basis_plot(model, title=None):\n",
        "    fig, ax = plt.subplots(2, sharex=True)\n",
        "    model.fit(x[:, np.newaxis], y)\n",
        "    ax[0].scatter(x, y)\n",
        "    ax[0].plot(xfit, model.predict(xfit[:, np.newaxis]),c='crimson')\n",
        "    ax[0].set(xlabel='BTC', ylabel='ETH')\n",
        "    \n",
        "    if title:\n",
        "        ax[0].set_title(title)\n",
        "#The lower panel of the figure (code here) shows the amplitude of the basis function at each location \n",
        "    ax[1].plot(model.steps[0][1].centers_,\n",
        "               model.steps[1][1].coef_,c='crimson')\n",
        "    ax[1].set(xlabel='basis location',\n",
        "              ylabel='coefficient')\n",
        "    \n",
        "model = make_pipeline(GaussianFeatures(30), LinearRegression()) #try changing to 50\n",
        "basis_plot(model)"
      ],
      "metadata": {
        "id": "bNB_GaZWY8yt"
      },
      "execution_count": null,
      "outputs": []
    },
    {
      "cell_type": "code",
      "source": [
        "#Creating a ridge regression (L_2 Regularisation) - penalising the sum of squares (2-norms) of the model coefficients \n",
        "#Alpha is a free parameter that controls the strength of the penalty\n",
        "#The alpha parameter is essentially a knob conntrolling the complexity of the resulting model\n",
        "#As alpha -> 0, we recover the standard linear regression result \n",
        "#An advantage of the ridge regression is that it can be computed very efficiently-at hardly more computational cost than the original linear regression model\n",
        "from sklearn.linear_model import Ridge\n",
        "model = make_pipeline(GaussianFeatures(50), Ridge(alpha=0.1))\n",
        "basis_plot(model, title='Ridge Regression')"
      ],
      "metadata": {
        "id": "j8RtkqsQY9SV"
      },
      "execution_count": null,
      "outputs": []
    },
    {
      "cell_type": "code",
      "source": [
        "#Creating a Lasso regression (L_1 Regularisation) - penalising the sum of absolute values (1-norms) of regression coefficients \n",
        "#Due to geometric reasons lassoo regression tends to favour sparse models where possible:\n",
        "#It preferentially sets model coefficients to exactly zero \n",
        "#With the lasso regression penalty, the majority of the coefficients are exactly zero, with the functional behaviour being modeled by a small subset of the available basis functions. \n",
        "from sklearn.linear_model import Lasso\n",
        "model = make_pipeline(GaussianFeatures(50), Lasso(alpha=0.001))\n",
        "basis_plot(model, title='Lasso Regression')"
      ],
      "metadata": {
        "id": "5hIyWW-FZDfu"
      },
      "execution_count": null,
      "outputs": []
    }
  ]
}